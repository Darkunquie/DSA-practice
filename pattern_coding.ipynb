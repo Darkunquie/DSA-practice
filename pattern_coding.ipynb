{
  "nbformat": 4,
  "nbformat_minor": 0,
  "metadata": {
    "colab": {
      "provenance": [],
      "include_colab_link": true
    },
    "kernelspec": {
      "name": "python3",
      "display_name": "Python 3"
    },
    "language_info": {
      "name": "python"
    }
  },
  "cells": [
    {
      "cell_type": "markdown",
      "metadata": {
        "id": "view-in-github",
        "colab_type": "text"
      },
      "source": [
        "<a href=\"https://colab.research.google.com/github/Darkunquie/DSA-practice/blob/main/pattern_coding.ipynb\" target=\"_parent\"><img src=\"https://colab.research.google.com/assets/colab-badge.svg\" alt=\"Open In Colab\"/></a>"
      ]
    },
    {
      "cell_type": "code",
      "execution_count": null,
      "metadata": {
        "colab": {
          "base_uri": "https://localhost:8080/"
        },
        "id": "WnrclQKgxHDD",
        "outputId": "62c61124-2eec-4894-a325-6410d3235d97"
      },
      "outputs": [
        {
          "output_type": "stream",
          "name": "stdout",
          "text": [
            "* * * * \n",
            "* * * * \n",
            "* * * * \n",
            "* * * * \n",
            "* * * * \n",
            "None\n"
          ]
        }
      ],
      "source": [
        "def square(num,stars):\n",
        "  for i in range(num):\n",
        "    for j in range(stars):\n",
        "      print(\"*\",end=\" \")\n",
        "    print()\n",
        "\n",
        "\n",
        "num=5\n",
        "stars=4\n",
        "print(square(num,stars))"
      ]
    },
    {
      "cell_type": "code",
      "source": [
        "def square(rows,stars):\n",
        "  for i in range(rows):\n",
        "    for j in range(stars):\n",
        "      if i==0 or i==rows-1 or j==0 or j==rows-1:\n",
        "        print(\"*\",end=\" \")\n",
        "      else:\n",
        "        print(\" \",end=\" \")\n",
        "\n",
        "\n",
        "rows=4\n",
        "stars=4\n",
        "print(square(rows,stars))"
      ],
      "metadata": {
        "colab": {
          "base_uri": "https://localhost:8080/"
        },
        "id": "fPoghh6_yELy",
        "outputId": "808f9d26-bf5b-41d6-a8ec-c57250872dac"
      },
      "execution_count": null,
      "outputs": [
        {
          "output_type": "stream",
          "name": "stdout",
          "text": [
            "* * * * *     * *     * * * * * None\n"
          ]
        }
      ]
    },
    {
      "cell_type": "code",
      "source": [
        "def hollow_square_star_pattern(n,st):\n",
        "    for i in range(n):\n",
        "        for j in range(st):\n",
        "            if i == 0 or i == n - 1 or j == 0 or j == st - 1:\n",
        "                print(\"*\", end=\" \")\n",
        "            else:\n",
        "                print(\" \", end=\" \")\n",
        "        print()\n",
        "n = 5\n",
        "st=4\n",
        "hollow_square_star_pattern(n,st)\n"
      ],
      "metadata": {
        "colab": {
          "base_uri": "https://localhost:8080/"
        },
        "id": "5aFj0KD8zlis",
        "outputId": "0b37f269-9aa4-44e9-9794-6920a7830479"
      },
      "execution_count": null,
      "outputs": [
        {
          "output_type": "stream",
          "name": "stdout",
          "text": [
            "* * * * \n",
            "*     * \n",
            "*     * \n",
            "*     * \n",
            "* * * * \n"
          ]
        }
      ]
    },
    {
      "cell_type": "code",
      "source": [
        "def rhom(n,st):\n",
        "    for i in range(1, n):\n",
        "        for j in range(i):\n",
        "            print(\" \", end=\" \")\n",
        "        for j in range(n):\n",
        "            print(\"*\", end=\" \")\n",
        "        print()\n",
        "n = 5\n",
        "st=4\n",
        "rhom(n,st)\n"
      ],
      "metadata": {
        "colab": {
          "base_uri": "https://localhost:8080/"
        },
        "id": "eRJli0KrzmDZ",
        "outputId": "31cc8d7b-579c-4736-bedb-d7c0ea1313a0"
      },
      "execution_count": null,
      "outputs": [
        {
          "output_type": "stream",
          "name": "stdout",
          "text": [
            "  * * * * * \n",
            "    * * * * * \n",
            "      * * * * * \n",
            "        * * * * * \n"
          ]
        }
      ]
    },
    {
      "cell_type": "code",
      "source": [
        "def rhom(n,st):\n",
        "    for i in range(1, n):\n",
        "        for j in range(i):\n",
        "            print(\"*\", end=\" \")\n",
        "        for j in range(n):\n",
        "            print(\" \", end=\" \")\n",
        "        print()\n",
        "n = 5\n",
        "st=4\n",
        "rhom(n,st)\n"
      ],
      "metadata": {
        "colab": {
          "base_uri": "https://localhost:8080/"
        },
        "id": "tjwUV99E2NkC",
        "outputId": "8aa26291-1c18-4ec8-de88-0aba5c6eeb86"
      },
      "execution_count": null,
      "outputs": [
        {
          "output_type": "stream",
          "name": "stdout",
          "text": [
            "*           \n",
            "* *           \n",
            "* * *           \n",
            "* * * *           \n"
          ]
        }
      ]
    },
    {
      "cell_type": "code",
      "source": [
        "def rhom2(n,st):\n",
        "  for i in range(n):\n",
        "    for j in range(n-i-1):\n",
        "      print(\" \",end=\" \")\n",
        "    for i in range(i):\n",
        "      print(\"*\",end=\" \")\n",
        "    print()\n",
        "n=5\n",
        "st=4\n",
        "rhom2(n,st)\n"
      ],
      "metadata": {
        "colab": {
          "base_uri": "https://localhost:8080/"
        },
        "id": "VocY_FQh3b0x",
        "outputId": "1b7b4957-75ae-4df8-852c-3fa64aa2f80d"
      },
      "execution_count": null,
      "outputs": [
        {
          "output_type": "stream",
          "name": "stdout",
          "text": [
            "        \n",
            "      * \n",
            "    * * \n",
            "  * * * \n",
            "* * * * \n"
          ]
        }
      ]
    },
    {
      "cell_type": "code",
      "source": [
        "def rhom2(n,st):\n",
        "  for i in range(n):\n",
        "    for j in range(n-i-1):\n",
        "      print(\" \",end=\" \")\n",
        "    for i in range(n):\n",
        "      print(\"*\",end=\" \")\n",
        "    print()\n",
        "n=5\n",
        "st=4\n",
        "rhom2(n,st)\n"
      ],
      "metadata": {
        "colab": {
          "base_uri": "https://localhost:8080/"
        },
        "id": "H8iaXqTc2jpp",
        "outputId": "db86cb9d-4e74-4af2-fd20-a39d17813793"
      },
      "execution_count": null,
      "outputs": [
        {
          "output_type": "stream",
          "name": "stdout",
          "text": [
            "        * * * * * \n",
            "      * * * * * \n",
            "    * * * * * \n",
            "  * * * * * \n",
            "* * * * * \n"
          ]
        }
      ]
    },
    {
      "cell_type": "code",
      "source": [
        "def rhom3(n,st):\n",
        "  for i in range(n):\n",
        "    for j in range(n-i-1):\n",
        "      print(\" \",end=\" \")\n",
        "    for i in range(n):\n",
        "      print(\"*\",end=\" \")\n",
        "    print()\n",
        "  for k in range(1,n):\n",
        "    for j in range(k):\n",
        "      print(\" \",end=\" \")\n",
        "    for i in  range(n):\n",
        "      print(\"*\",end=\" \")\n",
        "    print()\n",
        "\n",
        "n=5\n",
        "st=4\n",
        "rhom3(n,st)"
      ],
      "metadata": {
        "colab": {
          "base_uri": "https://localhost:8080/"
        },
        "id": "YvdgJc4t3xqx",
        "outputId": "fec84bdb-f105-445a-a3a8-8968bdb885a0"
      },
      "execution_count": null,
      "outputs": [
        {
          "output_type": "stream",
          "name": "stdout",
          "text": [
            "        * * * * * \n",
            "      * * * * * \n",
            "    * * * * * \n",
            "  * * * * * \n",
            "* * * * * \n",
            "  * * * * * \n",
            "    * * * * * \n",
            "      * * * * * \n",
            "        * * * * * \n"
          ]
        }
      ]
    },
    {
      "cell_type": "code",
      "source": [
        "def rhom3(n,st):\n",
        "  for i in range(n):\n",
        "    for j in range(i):\n",
        "      print(\" \",end=\" \")\n",
        "    for i in range(n):\n",
        "      print(\"*\",end=\" \")\n",
        "    print()\n",
        "  for k in range(1,n):\n",
        "    for j in range(k):\n",
        "      print(\" \",end=\" \")\n",
        "    for i in  range(n):\n",
        "      print(\"*\",end=\" \")\n",
        "    print()\n",
        "\n",
        "n=5\n",
        "st=4\n",
        "rhom3(n,st)"
      ],
      "metadata": {
        "colab": {
          "base_uri": "https://localhost:8080/"
        },
        "id": "VtlnQU4l4792",
        "outputId": "f9536049-c4c8-4e19-b0ad-7ae2d855001c"
      },
      "execution_count": null,
      "outputs": [
        {
          "output_type": "stream",
          "name": "stdout",
          "text": [
            "* * * * * \n",
            "  * * * * * \n",
            "    * * * * * \n",
            "      * * * * * \n",
            "        * * * * * \n",
            "  * * * * * \n",
            "    * * * * * \n",
            "      * * * * * \n",
            "        * * * * * \n"
          ]
        }
      ]
    },
    {
      "cell_type": "code",
      "source": [
        "def rhom4(n,st):\n",
        "  for i in range(2):\n",
        "    for i in range(n):\n",
        "      for j in range(i):\n",
        "        print(\" \",end=\" \")\n",
        "      for i in range(n):\n",
        "        print(\"*\",end=\" \")\n",
        "      print()\n",
        "    for i in range(n):\n",
        "      for j in range(n-i-1):\n",
        "        print(\" \",end=\" \")\n",
        "      for i in range(n):\n",
        "        print(\"*\",end=\" \")\n",
        "      print()\n",
        "\n",
        "n=5\n",
        "st=4\n",
        "print(rhom4(n,st))\n"
      ],
      "metadata": {
        "colab": {
          "base_uri": "https://localhost:8080/"
        },
        "id": "VYDgWrpY494V",
        "outputId": "2669bea5-b1e6-42b0-9ed6-1af1c5b7dd38"
      },
      "execution_count": null,
      "outputs": [
        {
          "output_type": "stream",
          "name": "stdout",
          "text": [
            "* * * * * \n",
            "  * * * * * \n",
            "    * * * * * \n",
            "      * * * * * \n",
            "        * * * * * \n",
            "        * * * * * \n",
            "      * * * * * \n",
            "    * * * * * \n",
            "  * * * * * \n",
            "* * * * * \n",
            "* * * * * \n",
            "  * * * * * \n",
            "    * * * * * \n",
            "      * * * * * \n",
            "        * * * * * \n",
            "        * * * * * \n",
            "      * * * * * \n",
            "    * * * * * \n",
            "  * * * * * \n",
            "* * * * * \n",
            "None\n"
          ]
        }
      ]
    },
    {
      "cell_type": "code",
      "source": [
        "def rect(n,st):\n",
        "  for i in range(n):\n",
        "    for j in range(st):\n",
        "      print(\"*\",end=\" \")\n",
        "    print()\n",
        "\n",
        "n=5\n",
        "st =5\n",
        "rect(n,st)"
      ],
      "metadata": {
        "id": "QM0fgvmD5v23",
        "colab": {
          "base_uri": "https://localhost:8080/"
        },
        "outputId": "9ad6c90f-e83f-42d9-e72a-7c8617cd3886"
      },
      "execution_count": null,
      "outputs": [
        {
          "output_type": "stream",
          "name": "stdout",
          "text": [
            "* * * * * \n",
            "* * * * * \n",
            "* * * * * \n",
            "* * * * * \n",
            "* * * * * \n"
          ]
        }
      ]
    },
    {
      "cell_type": "code",
      "source": [
        "def tri(n,st):\n",
        "  for i in range(1,n):\n",
        "      for j in range(i):\n",
        "        print(\"*\",end=\" \")\n",
        "      for i in range(n):\n",
        "        print(\" \",end=\" \")\n",
        "      print()\n",
        "\n",
        "\n",
        "n=8\n",
        "st=7\n",
        "tri(n,st)"
      ],
      "metadata": {
        "colab": {
          "base_uri": "https://localhost:8080/"
        },
        "id": "ucgyUBXfaqjl",
        "outputId": "cef55d4d-a876-4fec-d498-41314217bf6d"
      },
      "execution_count": null,
      "outputs": [
        {
          "output_type": "stream",
          "name": "stdout",
          "text": [
            "*                 \n",
            "* *                 \n",
            "* * *                 \n",
            "* * * *                 \n",
            "* * * * *                 \n",
            "* * * * * *                 \n",
            "* * * * * * *                 \n"
          ]
        }
      ]
    },
    {
      "cell_type": "code",
      "source": [
        "n=int(input(\"enter a number\"))\n",
        "\n",
        "for i in range(0,n):\n",
        "  for j in range(0,i+1):\n",
        "    print(\"*\",end=\" \")\n",
        "  print()"
      ],
      "metadata": {
        "colab": {
          "base_uri": "https://localhost:8080/"
        },
        "id": "DsGCZvcqbGV-",
        "outputId": "b04d9874-792b-4a3b-fd73-a58de2f6e4bf"
      },
      "execution_count": null,
      "outputs": [
        {
          "output_type": "stream",
          "name": "stdout",
          "text": [
            "enter a number5\n",
            "* \n",
            "* * \n",
            "* * * \n",
            "* * * * \n",
            "* * * * * \n"
          ]
        }
      ]
    },
    {
      "cell_type": "code",
      "source": [
        "n=int(input(\"enter a number\"))\n",
        "\n",
        "for i in range(0,n):\n",
        "  for j in range(0,n-i-1):\n",
        "    print(\"*\",end=\" \")\n",
        "  print()\n"
      ],
      "metadata": {
        "colab": {
          "base_uri": "https://localhost:8080/"
        },
        "id": "5Q5RyLbsb_dc",
        "outputId": "c01e4c6a-5af7-48a9-dba0-f889c83978c1"
      },
      "execution_count": null,
      "outputs": [
        {
          "output_type": "stream",
          "name": "stdout",
          "text": [
            "enter a number6\n",
            "* * * * * \n",
            "* * * * \n",
            "* * * \n",
            "* * \n",
            "* \n",
            "\n"
          ]
        }
      ]
    },
    {
      "cell_type": "code",
      "source": [
        "n=int(input(\"enter a number\"))\n",
        "\n",
        "for i in range(n,0,-2):\n",
        "  for j in range(i):\n",
        "    print(\"*\",end=\" \")\n",
        "  print()"
      ],
      "metadata": {
        "colab": {
          "base_uri": "https://localhost:8080/"
        },
        "id": "sqj-F1PeeAC-",
        "outputId": "42a43b2d-c664-47dd-8035-6a00ec3e813a"
      },
      "execution_count": null,
      "outputs": [
        {
          "output_type": "stream",
          "name": "stdout",
          "text": [
            "enter a number5\n",
            "* * * * * \n",
            "* * * \n",
            "* \n"
          ]
        }
      ]
    },
    {
      "cell_type": "code",
      "source": [
        "n=int(input(\"enter a number\"))\n",
        "\n",
        "for i in range(n):\n",
        "  for j in range(n-i-1):\n",
        "    print(\"*\",end=\" \")\n",
        "  print()"
      ],
      "metadata": {
        "colab": {
          "base_uri": "https://localhost:8080/"
        },
        "id": "0oSVu5wiehki",
        "outputId": "8dab3bdd-c675-486f-c195-749929da3a91"
      },
      "execution_count": null,
      "outputs": [
        {
          "output_type": "stream",
          "name": "stdout",
          "text": [
            "enter a number5\n",
            "* * * * \n",
            "* * * \n",
            "* * \n",
            "* \n",
            "\n"
          ]
        }
      ]
    },
    {
      "source": [
        "n = int(input(\"Enter a number: \"))\n",
        "\n",
        "for i in range(n):\n",
        "  for j in range(n - i - 1):\n",
        "    print(\" \", end=\" \")\n",
        "  for j in range(2 * i - 1):\n",
        "    print(\"*\", end=\" \")\n",
        "  print()"
      ],
      "cell_type": "code",
      "metadata": {
        "colab": {
          "base_uri": "https://localhost:8080/"
        },
        "id": "kKtcnngJfXbw",
        "outputId": "a09fe305-46a8-4c24-db57-fcd3326d91bd"
      },
      "execution_count": null,
      "outputs": [
        {
          "output_type": "stream",
          "name": "stdout",
          "text": [
            "Enter a number: 5\n",
            "        \n",
            "      * \n",
            "    * * * \n",
            "  * * * * * \n",
            "* * * * * * * \n"
          ]
        }
      ]
    },
    {
      "cell_type": "code",
      "source": [
        "def py(n):\n",
        "  for i in range(n):\n",
        "    print(' ' * (n-i) + '* ' * (i+1))\n",
        "n=5\n",
        "print(py(n))"
      ],
      "metadata": {
        "colab": {
          "base_uri": "https://localhost:8080/"
        },
        "id": "r4-WHMB7TLD4",
        "outputId": "9c506aa3-ff8b-4997-d3f7-cd35a68dd35e"
      },
      "execution_count": null,
      "outputs": [
        {
          "output_type": "stream",
          "name": "stdout",
          "text": [
            "     * \n",
            "    * * \n",
            "   * * * \n",
            "  * * * * \n",
            " * * * * * \n",
            "None\n"
          ]
        }
      ]
    },
    {
      "cell_type": "code",
      "source": [
        "n = 6\n",
        "for i in range(n,0,-1):\n",
        "  print(' ' * (n-i) + ' *'*i)\n",
        "\n",
        "  print()"
      ],
      "metadata": {
        "colab": {
          "base_uri": "https://localhost:8080/"
        },
        "id": "UAYGVeAKiZ_a",
        "outputId": "70c6644c-90d5-4a55-bde7-24bbfa94b15f"
      },
      "execution_count": null,
      "outputs": [
        {
          "output_type": "stream",
          "name": "stdout",
          "text": [
            " * * * * * *\n",
            "\n",
            "  * * * * *\n",
            "\n",
            "   * * * *\n",
            "\n",
            "    * * *\n",
            "\n",
            "     * *\n",
            "\n",
            "      *\n",
            "\n"
          ]
        }
      ]
    },
    {
      "cell_type": "code",
      "source": [
        "def hall(n,st):\n",
        "  for i in range(n):\n",
        "    for j in range(n-i-1):\n",
        "      print(\" \",end=\" \")\n",
        "    for j in range(2*i+1):\n",
        "      if i==0 or i==n-1 or j==0 or j==2*i:\n",
        "        print(\"*\",end=\" \")\n",
        "      else:\n",
        "        print(\" \",end=\" \")\n",
        "    print()\n",
        "\n",
        "n=5\n",
        "st=6\n",
        "hall(n,st)"
      ],
      "metadata": {
        "colab": {
          "base_uri": "https://localhost:8080/"
        },
        "id": "OXL8JZo6gCf5",
        "outputId": "e2ab3c7b-987e-4b6c-9c76-3472e7726752"
      },
      "execution_count": null,
      "outputs": [
        {
          "output_type": "stream",
          "name": "stdout",
          "text": [
            "        * \n",
            "      *   * \n",
            "    *       * \n",
            "  *           * \n",
            "* * * * * * * * * \n"
          ]
        }
      ]
    },
    {
      "cell_type": "code",
      "source": [
        "def inverted_hollow_triangle(n):\n",
        "    for i in range(n, 0, -1):\n",
        "        for j in range(n - i):\n",
        "            print(\" \", end=\"\")\n",
        "        for j in range(1, i + 1):\n",
        "            if j == 1 or j == i or i == n:\n",
        "                print(\"*\", end=\"\")\n",
        "            else:\n",
        "                print(\" \", end=\"\")\n",
        "        print()\n",
        "\n",
        "inverted_hollow_triangle(5)\n"
      ],
      "metadata": {
        "colab": {
          "base_uri": "https://localhost:8080/"
        },
        "id": "xKVW2jYgg3fi",
        "outputId": "53de6933-7cc2-4f61-fef7-5f12cc5cfd36"
      },
      "execution_count": null,
      "outputs": [
        {
          "output_type": "stream",
          "name": "stdout",
          "text": [
            "*****\n",
            " *  *\n",
            "  * *\n",
            "   **\n",
            "    *\n"
          ]
        }
      ]
    },
    {
      "cell_type": "code",
      "source": [
        "def inverted_hollow_pyramid(n):\n",
        "    for i in range(n, 0, -1):\n",
        "        for j in range(n - i):\n",
        "            print(\" \", end=\"\")\n",
        "        for j in range(1, 2 * i):\n",
        "            if j == 1 or j == 2 * i - 1 or i == n:\n",
        "                print(\"*\", end=\"\")\n",
        "            else:\n",
        "                print(\" \", end=\"\")\n",
        "        print()\n",
        "\n",
        "n = int(input(\"Enter the number of rows: \"))\n",
        "\n",
        "inverted_hollow_pyramid(n)"
      ],
      "metadata": {
        "colab": {
          "base_uri": "https://localhost:8080/"
        },
        "id": "bj7HGZaS5zzs",
        "outputId": "4796731f-b94b-4a33-821d-a1f247177a0f"
      },
      "execution_count": null,
      "outputs": [
        {
          "output_type": "stream",
          "name": "stdout",
          "text": [
            "Enter the number of rows: 5\n",
            "*********\n",
            " *     *\n",
            "  *   *\n",
            "   * *\n",
            "    *\n"
          ]
        }
      ]
    },
    {
      "cell_type": "code",
      "source": [
        "def half_dia(n):\n",
        "  for i in range(1,n+1):\n",
        "    print('*' * i)\n",
        "half_dia(6)"
      ],
      "metadata": {
        "colab": {
          "base_uri": "https://localhost:8080/"
        },
        "id": "6KWXbDgG6K1S",
        "outputId": "63b47b15-6c1e-4de1-8e9f-a13a8523cef0"
      },
      "execution_count": null,
      "outputs": [
        {
          "output_type": "stream",
          "name": "stdout",
          "text": [
            "*\n",
            "**\n",
            "***\n",
            "****\n",
            "*****\n",
            "******\n"
          ]
        }
      ]
    },
    {
      "cell_type": "code",
      "source": [
        "def half_dia1(n):\n",
        "  for i in range(n-1,0,-1):\n",
        "    print('*' * i)\n",
        "half_dia1(6)"
      ],
      "metadata": {
        "colab": {
          "base_uri": "https://localhost:8080/"
        },
        "id": "PrY0WliC-y8V",
        "outputId": "dd0d742e-9535-4eaa-be3c-d4e23bf2392e"
      },
      "execution_count": null,
      "outputs": [
        {
          "output_type": "stream",
          "name": "stdout",
          "text": [
            "*****\n",
            "****\n",
            "***\n",
            "**\n",
            "*\n"
          ]
        }
      ]
    },
    {
      "cell_type": "code",
      "source": [
        "def half_dia2(n):\n",
        "  for i in range(1,n+1):\n",
        "    print('*'*i)\n",
        "  for j in range(n-1,0,-1):\n",
        "    print('*' * j)\n",
        "half_dia2(6)"
      ],
      "metadata": {
        "colab": {
          "base_uri": "https://localhost:8080/"
        },
        "id": "E1_oOtFDAYqE",
        "outputId": "a87ee294-89ce-4449-b8db-07df62554cd5"
      },
      "execution_count": null,
      "outputs": [
        {
          "output_type": "stream",
          "name": "stdout",
          "text": [
            "*\n",
            "**\n",
            "***\n",
            "****\n",
            "*****\n",
            "******\n",
            "*****\n",
            "****\n",
            "***\n",
            "**\n",
            "*\n"
          ]
        }
      ]
    },
    {
      "cell_type": "code",
      "source": [
        "def half_diamond(n):\n",
        "  for i in range(1,n+1):\n",
        "    print(' ' * (n-i) + '*' * i)\n",
        "  for i in range(n-1,0,-1):\n",
        "    print(' ' * (n-i) + '*' * i)\n",
        "half_diamond(6)"
      ],
      "metadata": {
        "colab": {
          "base_uri": "https://localhost:8080/"
        },
        "id": "gbHfFdVj_NRG",
        "outputId": "9ebbea86-51aa-455f-e6e6-044d378dc3e1"
      },
      "execution_count": null,
      "outputs": [
        {
          "output_type": "stream",
          "name": "stdout",
          "text": [
            "     *\n",
            "    **\n",
            "   ***\n",
            "  ****\n",
            " *****\n",
            "******\n",
            " *****\n",
            "  ****\n",
            "   ***\n",
            "    **\n",
            "     *\n"
          ]
        }
      ]
    },
    {
      "cell_type": "code",
      "source": [
        "def butterfly(n):\n",
        "  for i in range(1,n+1):\n",
        "    print('*' * i)\n",
        "  for j in range(n-1,0,-1):\n",
        "    print('*' * j)\n",
        "  print('*' *n *2)\n",
        "  for i in range(1,n+1):\n",
        "    print(' ' * (n-i) + '*' * i)\n",
        "  for i in range(n-1,0,-1):\n",
        "    print(' ' * (n-i) + '*' * i)\n",
        "\n",
        "\n",
        "butterfly(6)"
      ],
      "metadata": {
        "colab": {
          "base_uri": "https://localhost:8080/"
        },
        "id": "MLpwLIXMAUce",
        "outputId": "32b845e1-c5bd-4c82-d26a-a7c061120ce7"
      },
      "execution_count": null,
      "outputs": [
        {
          "output_type": "stream",
          "name": "stdout",
          "text": [
            "*\n",
            "**\n",
            "***\n",
            "****\n",
            "*****\n",
            "******\n",
            "*****\n",
            "****\n",
            "***\n",
            "**\n",
            "*\n",
            "************\n",
            "     *\n",
            "    **\n",
            "   ***\n",
            "  ****\n",
            " *****\n",
            "******\n",
            " *****\n",
            "  ****\n",
            "   ***\n",
            "    **\n",
            "     *\n"
          ]
        }
      ]
    },
    {
      "cell_type": "code",
      "source": [
        "def butterfly_pattern(n):\n",
        "    for i in range(1, n + 1):\n",
        "        print('*' * i + ' ' * (2 * (n - i)) + '*' * i)\n",
        "\n",
        "    for i in range(n-1, 0, -1):\n",
        "        print('*' * i + ' ' * (2 * (n - i)) + '*' * i)\n",
        "\n",
        "butterfly_pattern(5)\n"
      ],
      "metadata": {
        "colab": {
          "base_uri": "https://localhost:8080/"
        },
        "id": "tw3E9UcOSKn4",
        "outputId": "1032e30f-f391-4396-e8ad-e867056f2e65"
      },
      "execution_count": null,
      "outputs": [
        {
          "output_type": "stream",
          "name": "stdout",
          "text": [
            "*        *\n",
            "**      **\n",
            "***    ***\n",
            "****  ****\n",
            "**********\n",
            "****  ****\n",
            "***    ***\n",
            "**      **\n",
            "*        *\n"
          ]
        }
      ]
    },
    {
      "cell_type": "code",
      "source": [
        "def diamond(n):\n",
        "  for i in range(n):\n",
        "    print(' ' * (n-i) +'* '*(i))\n",
        "  for i in range(n-1,0,-1):\n",
        "    print(' ' * (n-i) + '* '*(i))\n",
        "diamond(6)\n",
        "\n"
      ],
      "metadata": {
        "colab": {
          "base_uri": "https://localhost:8080/"
        },
        "id": "4Un5iR9sWvaf",
        "outputId": "91a3cf65-59e7-40d9-8a6c-9f04f0b67d8a"
      },
      "execution_count": null,
      "outputs": [
        {
          "output_type": "stream",
          "name": "stdout",
          "text": [
            "      \n",
            "     * \n",
            "    * * \n",
            "   * * * \n",
            "  * * * * \n",
            " * * * * * \n",
            " * * * * * \n",
            "  * * * * \n",
            "   * * * \n",
            "    * * \n",
            "     * \n"
          ]
        }
      ]
    },
    {
      "cell_type": "code",
      "source": [
        "def diamond(n):\n",
        "  for i in range(n):\n",
        "    for j in range(n-i-1):\n",
        "      print(' ' , end=\" \")\n",
        "    for j in range(2*i-1):\n",
        "      print('*', end=\" \" )\n",
        "\n",
        "    print()\n",
        "diamond(6)"
      ],
      "metadata": {
        "colab": {
          "base_uri": "https://localhost:8080/"
        },
        "id": "7hMuovn0YIvq",
        "outputId": "6fa9c028-f972-46fb-882f-8a68a6ec32aa"
      },
      "execution_count": null,
      "outputs": [
        {
          "output_type": "stream",
          "name": "stdout",
          "text": [
            "          \n",
            "        * \n",
            "      * * * \n",
            "    * * * * * \n",
            "  * * * * * * * \n",
            "* * * * * * * * * \n"
          ]
        }
      ]
    },
    {
      "cell_type": "code",
      "source": [
        "def diamond(n):\n",
        "  for i in range(3):\n",
        "    for i in range(n):\n",
        "        print(' ' * (n - i - 1) + '*' * (2 * i + 1))\n",
        "\n",
        "    for i in range(n - 2, -1, -1):\n",
        "        print(' ' * (n - i - 1) + '*' * (2 * i + 1))\n",
        "\n",
        "diamond(6)\n"
      ],
      "metadata": {
        "colab": {
          "base_uri": "https://localhost:8080/"
        },
        "id": "Z3x_4p9IaG-v",
        "outputId": "1a077ed8-166f-481f-9347-f909076e0571"
      },
      "execution_count": null,
      "outputs": [
        {
          "output_type": "stream",
          "name": "stdout",
          "text": [
            "     *\n",
            "    ***\n",
            "   *****\n",
            "  *******\n",
            " *********\n",
            "***********\n",
            " *********\n",
            "  *******\n",
            "   *****\n",
            "    ***\n",
            "     *\n",
            "     *\n",
            "    ***\n",
            "   *****\n",
            "  *******\n",
            " *********\n",
            "***********\n",
            " *********\n",
            "  *******\n",
            "   *****\n",
            "    ***\n",
            "     *\n",
            "     *\n",
            "    ***\n",
            "   *****\n",
            "  *******\n",
            " *********\n",
            "***********\n",
            " *********\n",
            "  *******\n",
            "   *****\n",
            "    ***\n",
            "     *\n"
          ]
        }
      ]
    },
    {
      "cell_type": "code",
      "source": [
        "def cube(n,m):\n",
        "  sum=0\n",
        "  for i in range(n):\n",
        "    for j in range(m):\n",
        "      print(j+1,end=\" \")\n",
        "    print()\n",
        "\n",
        "n=5\n",
        "m=4\n",
        "print(cube(n,m))"
      ],
      "metadata": {
        "id": "F6ZRa9Wfa25_",
        "outputId": "4d63242d-0305-49f5-d9db-66e3bce51898",
        "colab": {
          "base_uri": "https://localhost:8080/"
        }
      },
      "execution_count": 8,
      "outputs": [
        {
          "output_type": "stream",
          "name": "stdout",
          "text": [
            "1 2 3 4 \n",
            "1 2 3 4 \n",
            "1 2 3 4 \n",
            "1 2 3 4 \n",
            "1 2 3 4 \n",
            "None\n"
          ]
        }
      ]
    },
    {
      "cell_type": "code",
      "source": [
        "def cube1(n,m):\n",
        "  for i in range(n):\n",
        "    for j in range(m):\n",
        "      if j<=i:\n",
        "        print(j+1,end=\" \")\n",
        "      else:\n",
        "        print(\" \",end=\" \")\n",
        "    print()\n",
        "n=5\n",
        "m=6\n",
        "print(cube1(n,m))"
      ],
      "metadata": {
        "id": "GlSRpLoc_9Tb",
        "outputId": "5bc1e40f-68d0-4668-96ea-34d735a42b37",
        "colab": {
          "base_uri": "https://localhost:8080/"
        }
      },
      "execution_count": 8,
      "outputs": [
        {
          "output_type": "stream",
          "name": "stdout",
          "text": [
            "1           \n",
            "1 2         \n",
            "1 2 3       \n",
            "1 2 3 4     \n",
            "1 2 3 4 5   \n",
            "None\n"
          ]
        }
      ]
    },
    {
      "cell_type": "code",
      "source": [
        "def iq(n,m):\n",
        "  for i in range(n):\n",
        "    for j in range(m):\n",
        "      print(\"*\",end=\" \")\n",
        "    print()\n",
        "n=3\n",
        "m=3\n",
        "print(iq(n,m))"
      ],
      "metadata": {
        "id": "CwuC_K52eGAU",
        "outputId": "38531312-65ce-4e6e-e394-0cdd68bf8e11",
        "colab": {
          "base_uri": "https://localhost:8080/"
        }
      },
      "execution_count": 9,
      "outputs": [
        {
          "output_type": "stream",
          "name": "stdout",
          "text": [
            "* * * \n",
            "* * * \n",
            "* * * \n",
            "None\n"
          ]
        }
      ]
    },
    {
      "cell_type": "code",
      "source": [],
      "metadata": {
        "id": "ubwpdxFRsHYM"
      },
      "execution_count": null,
      "outputs": []
    }
  ]
}