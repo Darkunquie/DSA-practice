{
  "nbformat": 4,
  "nbformat_minor": 0,
  "metadata": {
    "colab": {
      "provenance": [],
      "authorship_tag": "ABX9TyNn0k81gpSGF98nyMXDVdvX",
      "include_colab_link": true
    },
    "kernelspec": {
      "name": "python3",
      "display_name": "Python 3"
    },
    "language_info": {
      "name": "python"
    }
  },
  "cells": [
    {
      "cell_type": "markdown",
      "metadata": {
        "id": "view-in-github",
        "colab_type": "text"
      },
      "source": [
        "<a href=\"https://colab.research.google.com/github/Darkunquie/DSA-practice/blob/main/Sets.ipynb\" target=\"_parent\"><img src=\"https://colab.research.google.com/assets/colab-badge.svg\" alt=\"Open In Colab\"/></a>"
      ]
    },
    {
      "cell_type": "code",
      "execution_count": null,
      "metadata": {
        "colab": {
          "base_uri": "https://localhost:8080/"
        },
        "id": "0iptpfJOL8zi",
        "outputId": "1f627fe3-6237-4b31-f4e2-218c0bba7cc8"
      },
      "outputs": [
        {
          "output_type": "stream",
          "name": "stdout",
          "text": [
            "{10, 20, 30}\n",
            "<class 'set'>\n"
          ]
        }
      ],
      "source": [
        "s={10,20,30}\n",
        "print(s)\n",
        "print(type(s))"
      ]
    },
    {
      "cell_type": "code",
      "source": [
        "#typecasting list to set\n",
        "s = set([\"a\", \"b\", \"c\"])\n",
        "print(s)"
      ],
      "metadata": {
        "colab": {
          "base_uri": "https://localhost:8080/"
        },
        "id": "qvpe1XtFMbOJ",
        "outputId": "c78b3f15-9fa2-4cea-b6e2-267d95c3b94f"
      },
      "execution_count": null,
      "outputs": [
        {
          "output_type": "stream",
          "name": "stdout",
          "text": [
            "{'a', 'c', 'b'}\n"
          ]
        }
      ]
    },
    {
      "cell_type": "code",
      "source": [
        "s.add(\"d\")\n",
        "print(s)"
      ],
      "metadata": {
        "colab": {
          "base_uri": "https://localhost:8080/"
        },
        "id": "FBtVaZr3M9AK",
        "outputId": "bc1d2f20-a836-482a-c4da-9917dd5f5b38"
      },
      "execution_count": null,
      "outputs": [
        {
          "output_type": "stream",
          "name": "stdout",
          "text": [
            "{'a', 'c', 'd', 'b'}\n"
          ]
        }
      ]
    },
    {
      "cell_type": "markdown",
      "source": [
        "#Python Frozen Sets"
      ],
      "metadata": {
        "id": "m7ig3L6TPnLB"
      }
    },
    {
      "cell_type": "markdown",
      "source": [
        "While elements of a set can be modified at any time, elements of the frozen set remain the same after creation"
      ],
      "metadata": {
        "id": "ncerIpLUPo8H"
      }
    },
    {
      "cell_type": "code",
      "source": [
        "s=set([\"a\",\"b\",\"c\"])\n",
        "print(s)"
      ],
      "metadata": {
        "colab": {
          "base_uri": "https://localhost:8080/"
        },
        "id": "I7IvmaGTNECA",
        "outputId": "ca3de5de-1d8c-43d3-c893-420100ab88ad"
      },
      "execution_count": null,
      "outputs": [
        {
          "output_type": "stream",
          "name": "stdout",
          "text": [
            "{'a', 'c', 'b'}\n"
          ]
        }
      ]
    },
    {
      "cell_type": "code",
      "source": [
        "fs=frozenset([\"e\",\"f\",\"g\"])\n",
        "print(fs)"
      ],
      "metadata": {
        "colab": {
          "base_uri": "https://localhost:8080/"
        },
        "id": "i6Ao29ZoQDsy",
        "outputId": "89a32020-0ae7-4ae9-dc78-e668d373ea75"
      },
      "execution_count": null,
      "outputs": [
        {
          "output_type": "stream",
          "name": "stdout",
          "text": [
            "frozenset({'e', 'g', 'f'})\n"
          ]
        }
      ]
    },
    {
      "cell_type": "markdown",
      "source": [
        "Adding elements to Python Sets"
      ],
      "metadata": {
        "id": "aZlUAkzvRG8S"
      }
    },
    {
      "cell_type": "code",
      "source": [
        "s=set([\"a\",\"b\",\"c\"])\n",
        "s.add(\"d\")\n",
        "print(s)"
      ],
      "metadata": {
        "colab": {
          "base_uri": "https://localhost:8080/"
        },
        "id": "f6H6MaGtQQPZ",
        "outputId": "f76c9137-8a19-48c9-f30a-3f7d725124d7"
      },
      "execution_count": null,
      "outputs": [
        {
          "output_type": "stream",
          "name": "stdout",
          "text": [
            "{'a', 'c', 'd', 'b'}\n"
          ]
        }
      ]
    },
    {
      "cell_type": "markdown",
      "source": [
        "#Union operation"
      ],
      "metadata": {
        "id": "jfW0j9M6SQpL"
      }
    },
    {
      "cell_type": "markdown",
      "source": [
        "Two sets can be merged using union() function or | operator. Both Hash Table values are accessed and traversed with merge operation perform on them to combine the elements, at the same time duplicates are removed."
      ],
      "metadata": {
        "id": "yoSwtxRNSYY-"
      }
    },
    {
      "cell_type": "code",
      "source": [
        "people = {\"Jay\", \"Idrish\", \"Archil\"}\n",
        "vampires = {\"Karan\", \"Arjun\"}\n",
        "dracula = {\"Deepanshu\", \"Raju\"}\n",
        "\n",
        "# Union using union()\n",
        "# function\n",
        "population = people.union(vampires)\n",
        "print(population)"
      ],
      "metadata": {
        "colab": {
          "base_uri": "https://localhost:8080/"
        },
        "id": "m03s1wCORqsx",
        "outputId": "a92e7bc8-6fd6-407e-cb13-cb4bda8b11a4"
      },
      "execution_count": null,
      "outputs": [
        {
          "output_type": "stream",
          "name": "stdout",
          "text": [
            "{'Jay', 'Arjun', 'Archil', 'Idrish', 'Karan'}\n"
          ]
        }
      ]
    },
    {
      "cell_type": "code",
      "source": [
        "pop=vampires|dracula\n",
        "print(pop)"
      ],
      "metadata": {
        "colab": {
          "base_uri": "https://localhost:8080/"
        },
        "id": "GvUe-Vy7S1c_",
        "outputId": "a22063ae-2837-43df-eb45-ff010661b56f"
      },
      "execution_count": null,
      "outputs": [
        {
          "output_type": "stream",
          "name": "stdout",
          "text": [
            "{'Karan', 'Arjun', 'Deepanshu', 'Raju'}\n"
          ]
        }
      ]
    },
    {
      "cell_type": "markdown",
      "source": [
        "#Intersection operation"
      ],
      "metadata": {
        "id": "acu-jcg9Tu-D"
      }
    },
    {
      "cell_type": "code",
      "source": [
        "set1={1,2,3,4,5}\n",
        "set2={4,5,6,7,8,3}\n",
        "set3=set1&set2\n",
        "print(set3)"
      ],
      "metadata": {
        "colab": {
          "base_uri": "https://localhost:8080/"
        },
        "id": "35fR3EafTlAR",
        "outputId": "9b7233b5-790e-4381-fb27-93df239a14e4"
      },
      "execution_count": null,
      "outputs": [
        {
          "output_type": "stream",
          "name": "stdout",
          "text": [
            "{3, 4, 5}\n"
          ]
        }
      ]
    },
    {
      "cell_type": "markdown",
      "source": [
        "#Finding Differences"
      ],
      "metadata": {
        "id": "H79Maf1tUkIo"
      }
    },
    {
      "cell_type": "code",
      "source": [
        "set3=set1-set2\n",
        "print(set3)"
      ],
      "metadata": {
        "colab": {
          "base_uri": "https://localhost:8080/"
        },
        "id": "OqI3znM1UQks",
        "outputId": "d324358b-a6b2-4ff3-e379-3878d0221df1"
      },
      "execution_count": null,
      "outputs": [
        {
          "output_type": "stream",
          "name": "stdout",
          "text": [
            "{1, 2}\n"
          ]
        }
      ]
    },
    {
      "cell_type": "markdown",
      "source": [
        "Print all Distinct (Unique) Elements in given Array"
      ],
      "metadata": {
        "id": "8rN4oQWQ1JkZ"
      }
    },
    {
      "cell_type": "code",
      "source": [
        "'''Input: arr[] = {12, 10, 9, 45, 2, 10, 10, 45}\n",
        "Output: {12, 10, 9, 45, 2}\n",
        "\n",
        "\n",
        "Input: arr[] = {1, 2, 3, 4, 5}\n",
        "Output: {1, 2, 3, 4, 5}\n",
        "\n",
        "\n",
        "Input: arr[] = {1, 1, 1, 1, 1}\n",
        "Output: {1}"
      ],
      "metadata": {
        "id": "qSz-lokFUsaQ"
      },
      "execution_count": null,
      "outputs": []
    },
    {
      "cell_type": "code",
      "source": [
        "arr=[12,10,9,45,2,10,10,45]\n",
        "arr2=[]\n",
        "for i in arr:\n",
        "  if i not in arr2:\n",
        "    arr2.append(i)\n",
        "print(set(arr2))"
      ],
      "metadata": {
        "colab": {
          "base_uri": "https://localhost:8080/"
        },
        "id": "kf6bEPnp1Ub8",
        "outputId": "77ad624e-e1df-41e8-9063-1514d5f02e9f"
      },
      "execution_count": 3,
      "outputs": [
        {
          "output_type": "stream",
          "name": "stdout",
          "text": [
            "{2, 9, 10, 12, 45}\n"
          ]
        }
      ]
    },
    {
      "cell_type": "code",
      "source": [
        "arr=[12,10,9,45,2,10,10,45]\n",
        "unq=set()\n",
        "for i in arr:\n",
        "  unq.add(i )\n",
        "print((unq))"
      ],
      "metadata": {
        "colab": {
          "base_uri": "https://localhost:8080/"
        },
        "id": "p4EB5AzH1kf0",
        "outputId": "d8b0906b-2fe8-4655-fd36-0628389e49a5"
      },
      "execution_count": 6,
      "outputs": [
        {
          "output_type": "stream",
          "name": "stdout",
          "text": [
            "{2, 9, 10, 12, 45}\n"
          ]
        }
      ]
    },
    {
      "cell_type": "markdown",
      "source": [
        "Intersection of two Arrays"
      ],
      "metadata": {
        "id": "EMzjIxJ83gUW"
      }
    },
    {
      "cell_type": "code",
      "source": [
        "'''Input: a[] = {1, 2, 1, 3, 1},  b[] = {3, 1, 3, 4, 1}\n",
        "Output: {1,  3}\n",
        "Explanation: 1 and 3 are the only common elements and we need to print only one occurrence of common elements\n",
        "\n",
        "Input: a[] = {1, 1, 1},  b[] = {1, 1, 1, 1, 1}\n",
        "Output: {1}\n",
        "Explanation: 1 is the only common element present in both the arrays.\n",
        "\n",
        "Input: a[] = {1, 2, 3},  b[] = {4, 5, 6}\n",
        "Output: {}\n",
        "Explanation: No common element in both the arrays."
      ],
      "metadata": {
        "id": "umyjMlSJ3J6f"
      },
      "execution_count": null,
      "outputs": []
    },
    {
      "cell_type": "code",
      "source": [
        "a = {1, 2, 1, 3, 1}\n",
        "b = {3, 1, 3, 4, 1}\n",
        "c=a&b\n",
        "c"
      ],
      "metadata": {
        "colab": {
          "base_uri": "https://localhost:8080/"
        },
        "id": "c9z04e0W3lvO",
        "outputId": "246640ad-a404-480e-e925-dde058c925de"
      },
      "execution_count": 7,
      "outputs": [
        {
          "output_type": "execute_result",
          "data": {
            "text/plain": [
              "{1, 3}"
            ]
          },
          "metadata": {},
          "execution_count": 7
        }
      ]
    },
    {
      "cell_type": "code",
      "source": [
        "a = {1, 2, 1, 3, 1}\n",
        "b = {3, 1, 3, 4, 1}\n",
        "c = {x for x in a if x in b}\n",
        "print(c)\n"
      ],
      "metadata": {
        "colab": {
          "base_uri": "https://localhost:8080/"
        },
        "id": "LDC0dLW638B7",
        "outputId": "f11bbd05-cf87-4250-9168-2d2d1cb1a396"
      },
      "execution_count": 8,
      "outputs": [
        {
          "output_type": "stream",
          "name": "stdout",
          "text": [
            "{1, 3}\n"
          ]
        }
      ]
    },
    {
      "cell_type": "markdown",
      "source": [
        "Check if an array is subset of another array"
      ],
      "metadata": {
        "id": "PlT9vdZJ9tTm"
      }
    },
    {
      "cell_type": "code",
      "source": [
        "'''Input: a[] = [11, 1, 13, 21, 3, 7], b[] = [11, 3, 7, 1]\n",
        "Output: true\n",
        "\n",
        "\n",
        "Input: a[]= [1, 2, 3, 4, 5, 6], b = [1, 2, 4]\n",
        "Output: true\n",
        "\n",
        "\n",
        "Input: a[] = [10, 5, 2, 23, 19], b = [19, 5, 3]\n",
        "Output: false"
      ],
      "metadata": {
        "id": "XcwUisK19uOZ"
      },
      "execution_count": null,
      "outputs": []
    },
    {
      "cell_type": "code",
      "source": [
        "def is_subset(array1, array2):\n",
        "\n",
        "  return all(element in array1 for element in array2)\n",
        "\n",
        "# Example usage:\n",
        "a = [11, 1, 13, 21, 3, 7]\n",
        "b = [11, 3, 7, 1]\n",
        "\n",
        "if is_subset(a, b):\n",
        "  print(\"True\")\n",
        "else:\n",
        "  print(\"False\")"
      ],
      "metadata": {
        "colab": {
          "base_uri": "https://localhost:8080/"
        },
        "id": "x9EoAHuO96VK",
        "outputId": "e70b06bf-9f71-4288-e8b4-d923432a6e1b"
      },
      "execution_count": 13,
      "outputs": [
        {
          "output_type": "stream",
          "name": "stdout",
          "text": [
            "True\n"
          ]
        }
      ]
    },
    {
      "cell_type": "markdown",
      "source": [
        "#Check for Disjoint Arrays or Sets"
      ],
      "metadata": {
        "id": "W1JLWLt4ARfC"
      }
    },
    {
      "cell_type": "code",
      "source": [
        "\"\"\"Input: a[] = {12, 34, 11, 9, 3}, b[] = {2, 1, 3, 5}\n",
        "Output: False\n",
        "Explanation: 3 is common in both the arrays.\n",
        "\n",
        "\n",
        "Input: a[] = {12, 34, 11, 9, 3}, b[] = {7, 2, 1, 5}\n",
        "Output: True\n",
        "Explanation: There is no common element in both the sets.\"\"\""
      ],
      "metadata": {
        "id": "LfEPS-iJ-d11"
      },
      "execution_count": null,
      "outputs": []
    },
    {
      "cell_type": "code",
      "source": [
        "def dis(a,b):\n",
        "  for i in a:\n",
        "    if i in b:\n",
        "      return False\n",
        "  return True\n",
        "\n",
        "\n",
        "a=[12, 34, 11, 9, 3]\n",
        "b=[2, 1, 3, 5]\n",
        "res=dis(a,b)\n",
        "print(res)"
      ],
      "metadata": {
        "colab": {
          "base_uri": "https://localhost:8080/"
        },
        "id": "mP-rg_x-Akl-",
        "outputId": "a1b3f471-a40a-4f74-d05a-e0203b591400"
      },
      "execution_count": 21,
      "outputs": [
        {
          "output_type": "stream",
          "name": "stdout",
          "text": [
            "False\n"
          ]
        }
      ]
    },
    {
      "cell_type": "code",
      "source": [
        "def are_disjoint(array1, array2):\n",
        "  set1 = set(array1)  # Convert arrays to sets for efficient intersection check\n",
        "  set2 = set(array2)\n",
        "  return len(set1.intersection(set2)) == 0  # Check if intersection is empty\n",
        "\n",
        "\n",
        "# Example usage:\n",
        "a = [12, 34, 11, 9, 3]\n",
        "b = [2, 1, 3, 5]\n",
        "\n",
        "result = are_disjoint(a, b)\n",
        "print(result)  # Output: False (3 is common)\n",
        "\n",
        "a = [12, 34, 11, 9, 3]\n",
        "b = [7, 2, 1, 5]\n",
        "\n",
        "result = are_disjoint(a, b)\n",
        "print(result)  # Output: True (no common elements)"
      ],
      "metadata": {
        "colab": {
          "base_uri": "https://localhost:8080/"
        },
        "id": "l7TnpuWfBtXb",
        "outputId": "9a3df614-00a4-403e-8010-92163d7931d4"
      },
      "execution_count": 22,
      "outputs": [
        {
          "output_type": "stream",
          "name": "stdout",
          "text": [
            "False\n",
            "True\n"
          ]
        }
      ]
    },
    {
      "cell_type": "markdown",
      "source": [
        "Longest Consecutive Subsequence"
      ],
      "metadata": {
        "id": "94xnD0y_apOz"
      }
    },
    {
      "cell_type": "code",
      "source": [
        "'''Input: arr[] = [2, 6, 1, 9, 4, 5, 3]\n",
        "Output: 6\n",
        "Explanation: The consecutive numbers here are from 1 to 6. These 6 numbers form the longest consecutive subsequence [2, 6, 1, 4, 5, 3].\n",
        "\n",
        "\n",
        "Input: arr[] = [1, 9, 3, 10, 4, 20, 2]\n",
        "Output: 4\n",
        "Explanation: The subsequence [1, 3, 4, 2] is the longest subsequence of consecutive elements\n",
        "\n",
        "\n",
        "Input: arr[] = [36, 41, 56, 35, 44, 33, 34, 92, 43, 32, 42]\n",
        "Output: 5\n",
        "Explanation: The subsequence [36, 35, 33, 34, 32] is the longest subsequence of consecutive elements."
      ],
      "metadata": {
        "id": "ZAXTyAEWAkkA"
      },
      "execution_count": null,
      "outputs": []
    },
    {
      "cell_type": "code",
      "source": [
        "def con(arr):\n",
        "  num=set(arr)\n",
        "  streak=0\n",
        "  for i in num:\n",
        "    if i-1 not in num:\n",
        "      current_num=i\n",
        "      current_streak=1\n",
        "      while current_num+1 in num:\n",
        "        current_num+=1\n",
        "        current_streak+=1\n",
        "      streak=max(streak,current_streak)\n",
        "  return streak\n",
        "arr = [2, 6, 1, 9, 4, 5, 3]\n",
        "print(con(arr))"
      ],
      "metadata": {
        "colab": {
          "base_uri": "https://localhost:8080/"
        },
        "id": "cXm1qV7lax6v",
        "outputId": "d464b7b2-cd91-4b0a-8e4e-59b208096d9d"
      },
      "execution_count": 23,
      "outputs": [
        {
          "output_type": "stream",
          "name": "stdout",
          "text": [
            "6\n"
          ]
        }
      ]
    },
    {
      "cell_type": "markdown",
      "source": [
        "Duplicate within K Distance in an Array"
      ],
      "metadata": {
        "id": "IKYwMo6kxj1q"
      }
    },
    {
      "cell_type": "code",
      "source": [
        "'''Input: k = 3, arr[] = [1, 2, 3, 4, 1, 2, 3, 4]\n",
        "Output: No\n",
        "Explanation: Each element in the given array arr[] appears twice and the distance between every element and its duplicate is 4.\n",
        "\n",
        "Input: k = 3, arr[] = [1, 2, 3, 1, 4, 5]\n",
        "Output: Yes\n",
        "Explanation: 1 is present at index 0 and 3.\n",
        "\n",
        "Input: k = 3, arr[] = [1, 2, 3, 4, 5]\n",
        "Output: No\n",
        "Explanation: There is no duplicate element in arr[].\"\"\""
      ],
      "metadata": {
        "id": "2kJ_BEx2whVB"
      },
      "execution_count": null,
      "outputs": []
    },
    {
      "cell_type": "code",
      "source": [
        "def check_duplicates_within_k(arr, k):\n",
        "    n = len(arr)\n",
        "\n",
        "    # Traverse for every element\n",
        "    for i in range(n):\n",
        "\n",
        "        # Traverse next k elements\n",
        "        for c in range(1, k + 1):\n",
        "            j = i + c\n",
        "\n",
        "            # If we find one more occurrence within k\n",
        "            if j < n and arr[i] == arr[j]:\n",
        "                return True\n",
        "\n",
        "    return False\n",
        "\n",
        "# Driver method to test above method\n",
        "arr = [10, 5, 3, 4, 3, 5, 6]\n",
        "print(\"Yes\" if check_duplicates_within_k(arr, 3) else \"No\")\n"
      ],
      "metadata": {
        "colab": {
          "base_uri": "https://localhost:8080/"
        },
        "id": "jWJU5z3o1b0N",
        "outputId": "69b6f3b5-35a7-4f7d-f33f-fe7eb5a91374"
      },
      "execution_count": 28,
      "outputs": [
        {
          "output_type": "stream",
          "name": "stdout",
          "text": [
            "Yes\n"
          ]
        }
      ]
    },
    {
      "cell_type": "code",
      "source": [
        "def check(arr,k):\n",
        "  ele ={}\n",
        "  for i, num in enumerate(arr):\n",
        "    if num in ele and abs(ele[num]-i)<=k:\n",
        "      return True\n",
        "    ele[num]=i\n",
        "  return False\n",
        "\n",
        "\n",
        "\n",
        "\n",
        "arr= [1, 2, 3, 4, 1, 2, 3, 4]\n",
        "if check(arr,3):\n",
        "  print (\"True\")\n",
        "else:\n",
        "  print(\" False\")"
      ],
      "metadata": {
        "colab": {
          "base_uri": "https://localhost:8080/"
        },
        "id": "8c-G_nZGxqv7",
        "outputId": "589c162e-5db0-422a-b6b3-d7aa5cc8b8a5"
      },
      "execution_count": 27,
      "outputs": [
        {
          "output_type": "stream",
          "name": "stdout",
          "text": [
            " False\n"
          ]
        }
      ]
    },
    {
      "cell_type": "markdown",
      "source": [
        "Two Sum – Pair with given Sum"
      ],
      "metadata": {
        "id": "ztFUIgE13APQ"
      }
    },
    {
      "cell_type": "code",
      "source": [
        "Input: arr[] = [0, -1, 2, -3, 1], target = -2\n",
        "Output: true\n",
        "Explanation: There is a pair (1, -3) with the sum equal to given target, 1 + (-3) = -2.\n",
        "\n",
        "\n",
        "Input: arr[] = [1, -2, 1, 0, 5], target = 0\n",
        "Output: false\n",
        "Explanation: There is no pair with sum equals to given target."
      ],
      "metadata": {
        "id": "VF5mgU530TeC"
      },
      "execution_count": null,
      "outputs": []
    },
    {
      "cell_type": "code",
      "source": [
        "def two_sum(arr,target):\n",
        "  n=len(arr)\n",
        "  for i in range(n):\n",
        "    for j in range(i+1,n):\n",
        "      if arr[i]+arr[j]==target:\n",
        "        return True\n",
        "  return False\n",
        "\n",
        "\n",
        "arr=[0, -1, 2, -3, 1]\n",
        "target=-2\n",
        "if two_sum(arr,target):\n",
        "      print(\"true\")\n",
        "else:\n",
        "      print(\"false\")   #O(n2)"
      ],
      "metadata": {
        "colab": {
          "base_uri": "https://localhost:8080/"
        },
        "id": "Y71T3Rvs3DrX",
        "outputId": "f88bb1df-ece3-4f87-e6d9-8ffe3cf855f3"
      },
      "execution_count": 33,
      "outputs": [
        {
          "output_type": "stream",
          "name": "stdout",
          "text": [
            "true\n"
          ]
        }
      ]
    },
    {
      "cell_type": "code",
      "source": [
        "def two_sum(arr,target):\n",
        "  seen={}\n",
        "  for i,num in enumerate(arr):\n",
        "    complement=target-num\n",
        "    if complement in seen:\n",
        "      return True #pair found\n",
        "    seen[num]=i #store current ele and its index\n",
        "  return False\n",
        "\n",
        "\n",
        "arr=[0, -1, 2, -3, 1]\n",
        "target=-2\n",
        "if two_sum(arr,target):\n",
        "      print(\"true\")\n",
        "else:\n",
        "      print(\"false\")   #O(n2)"
      ],
      "metadata": {
        "colab": {
          "base_uri": "https://localhost:8080/"
        },
        "id": "spptZm-R38KT",
        "outputId": "7f59b9c9-5f18-47f6-b8b9-8dcb710fce07"
      },
      "execution_count": 35,
      "outputs": [
        {
          "output_type": "stream",
          "name": "stdout",
          "text": [
            "true\n"
          ]
        }
      ]
    },
    {
      "cell_type": "markdown",
      "source": [
        "Only Repeating From 1 To n-1"
      ],
      "metadata": {
        "id": "9yzywDYz6nUB"
      }
    },
    {
      "cell_type": "code",
      "source": [
        "nput: a[] = [1, 3, 2, 3, 4]\n",
        "Output: 3\n",
        "Explanation: The number 3 is the only repeating element.\n",
        "\n",
        "\n",
        "Input: a[] = [1, 5, 1, 2, 3, 4]\n",
        "Output: 1\n",
        "\n"
      ],
      "metadata": {
        "id": "29MehBX26EWm"
      },
      "execution_count": null,
      "outputs": []
    },
    {
      "cell_type": "code",
      "source": [
        "def sum(arr):\n",
        "  set1 = set()  # Initialize set1 as a set using set()\n",
        "  for i in arr:\n",
        "    if i in set1:\n",
        "      return i\n",
        "    set1.add(i)\n",
        "  return -1\n",
        "\n",
        "\n",
        "\n",
        "arr = [1, 5, 1, 2, 3, 4]\n",
        "print(sum(arr))"
      ],
      "metadata": {
        "colab": {
          "base_uri": "https://localhost:8080/"
        },
        "id": "CXzXbiO66rSX",
        "outputId": "5de98a63-4ed8-4b1f-83f7-dd9768148fb4"
      },
      "execution_count": 39,
      "outputs": [
        {
          "output_type": "stream",
          "name": "stdout",
          "text": [
            "1\n"
          ]
        }
      ]
    },
    {
      "cell_type": "code",
      "source": [],
      "metadata": {
        "id": "MHJjgr5W7EUD"
      },
      "execution_count": null,
      "outputs": []
    }
  ]
}