{
  "nbformat": 4,
  "nbformat_minor": 0,
  "metadata": {
    "colab": {
      "provenance": []
    },
    "kernelspec": {
      "name": "python3",
      "display_name": "Python 3"
    },
    "language_info": {
      "name": "python"
    }
  },
  "cells": [
    {
      "cell_type": "markdown",
      "source": [
        "##sorting methods"
      ],
      "metadata": {
        "id": "S2Yta-zaEifL"
      }
    },
    {
      "cell_type": "code",
      "execution_count": null,
      "metadata": {
        "colab": {
          "base_uri": "https://localhost:8080/"
        },
        "id": "fXZeqRcFETTg",
        "outputId": "c61597da-494f-4d95-c2db-196ac4aaeb30"
      },
      "outputs": [
        {
          "output_type": "execute_result",
          "data": {
            "text/plain": [
              "[1, 2, 6, 15, 21]"
            ]
          },
          "metadata": {},
          "execution_count": 1
        }
      ],
      "source": [
        "a=[21,15,2,6,1]\n",
        "a.sort()\n",
        "a       #modifies given list"
      ]
    },
    {
      "cell_type": "code",
      "source": [
        "b=[13,1,65,25,10]\n",
        "sorted(b)            #does not modifies given list it returns different list"
      ],
      "metadata": {
        "colab": {
          "base_uri": "https://localhost:8080/"
        },
        "id": "mh84dC4qFvET",
        "outputId": "5b9a39f8-c569-4d8b-ac58-d5fdc8984cd2"
      },
      "execution_count": null,
      "outputs": [
        {
          "output_type": "execute_result",
          "data": {
            "text/plain": [
              "[1, 10, 13, 25, 65]"
            ]
          },
          "metadata": {},
          "execution_count": 2
        }
      ]
    },
    {
      "cell_type": "markdown",
      "source": [
        "#Time Complexity\n",
        "\n",
        "#sort() and sorted(): Both have a time complexity of O(n log ⁡n)."
      ],
      "metadata": {
        "id": "fMnp0rjtIA3N"
      }
    },
    {
      "cell_type": "markdown",
      "source": [
        "#sort()"
      ],
      "metadata": {
        "id": "6FNQsq1WGyNb"
      }
    },
    {
      "cell_type": "code",
      "source": [
        "b=[5, 2, 9, 1, 5, 6]\n",
        "b.sort()\n",
        "print('ascending order ',b)"
      ],
      "metadata": {
        "colab": {
          "base_uri": "https://localhost:8080/"
        },
        "id": "s1YtpKAwGGVt",
        "outputId": "0203638f-8a7c-4071-9137-a5e2d0e3251a"
      },
      "execution_count": null,
      "outputs": [
        {
          "output_type": "stream",
          "name": "stdout",
          "text": [
            "ascending order  [1, 2, 5, 5, 6, 9]\n"
          ]
        }
      ]
    },
    {
      "cell_type": "code",
      "source": [
        "b.sort(reverse=True)\n",
        "print('descending order ',b)"
      ],
      "metadata": {
        "colab": {
          "base_uri": "https://localhost:8080/"
        },
        "id": "rqsXTWS6HUtK",
        "outputId": "53e0d2f5-fb0e-427d-b840-d73a38a52886"
      },
      "execution_count": null,
      "outputs": [
        {
          "output_type": "stream",
          "name": "stdout",
          "text": [
            "descending order  [9, 6, 5, 5, 2, 1]\n"
          ]
        }
      ]
    },
    {
      "cell_type": "code",
      "source": [
        "words = [\"apple\", \"banana\", \"kiwi\", \"orange\", \"grape\"]\n",
        "words.sort(key =len)\n",
        "words"
      ],
      "metadata": {
        "colab": {
          "base_uri": "https://localhost:8080/"
        },
        "id": "lgyAkLTkHcR1",
        "outputId": "f5fcb395-0b00-4b69-d242-1a293acfad12"
      },
      "execution_count": null,
      "outputs": [
        {
          "output_type": "execute_result",
          "data": {
            "text/plain": [
              "['kiwi', 'apple', 'grape', 'banana', 'orange']"
            ]
          },
          "metadata": {},
          "execution_count": 9
        }
      ]
    },
    {
      "cell_type": "code",
      "source": [
        "# Original list of dictionaries\n",
        "students = [\n",
        "    {\"name\": \"Alice\", \"age\": 25},\n",
        "    {\"name\": \"Bob\", \"age\": 30},\n",
        "    {\"name\": \"Charlie\", \"age\": 22},\n",
        "    {\"name\": \"David\", \"age\": 28},\n",
        "]\n",
        "\n",
        "# Sorting by the 'age' key in each dictionary\n",
        "students.sort(key=lambda x: x[\"age\"])\n",
        "\n",
        "# Displaying the sorted list\n",
        "print(\"Sorted by Age:\", students)\n"
      ],
      "metadata": {
        "colab": {
          "base_uri": "https://localhost:8080/"
        },
        "id": "TBrMhi7WKAmN",
        "outputId": "05380653-dcd1-461a-9d3c-f9d30d70dcf7"
      },
      "execution_count": null,
      "outputs": [
        {
          "output_type": "stream",
          "name": "stdout",
          "text": [
            "Sorted by Age: [{'name': 'Charlie', 'age': 22}, {'name': 'Alice', 'age': 25}, {'name': 'David', 'age': 28}, {'name': 'Bob', 'age': 30}]\n"
          ]
        }
      ]
    },
    {
      "cell_type": "markdown",
      "source": [
        "#sorted()"
      ],
      "metadata": {
        "id": "R2sIGBgdLA00"
      }
    },
    {
      "cell_type": "code",
      "source": [
        "a = [5, 2, 9, 1, 5, 6]\n",
        "\n",
        "# \"reverse= True\" helps sorted() to arrange the element\n",
        "#from largest to smallest elements\n",
        "res = sorted(a, reverse=True)\n",
        "print(res)\n"
      ],
      "metadata": {
        "colab": {
          "base_uri": "https://localhost:8080/"
        },
        "id": "THX_vnnbKXnh",
        "outputId": "045f9853-0d52-4916-cd69-ccb27286a6d0"
      },
      "execution_count": null,
      "outputs": [
        {
          "output_type": "stream",
          "name": "stdout",
          "text": [
            "[9, 6, 5, 5, 2, 1]\n"
          ]
        }
      ]
    },
    {
      "cell_type": "code",
      "source": [
        "a = [\"apple\", \"banana\", \"cherry\", \"date\"]\n",
        "res = sorted(a, key=len)\n",
        "print(res)\n"
      ],
      "metadata": {
        "colab": {
          "base_uri": "https://localhost:8080/"
        },
        "id": "70zCUqhaLLAf",
        "outputId": "6e2a3362-3f7c-4b39-b22e-d00439ef80a7"
      },
      "execution_count": null,
      "outputs": [
        {
          "output_type": "stream",
          "name": "stdout",
          "text": [
            "['date', 'apple', 'banana', 'cherry']\n"
          ]
        }
      ]
    },
    {
      "cell_type": "markdown",
      "source": [
        "Sorting a List of Dictionaries:"
      ],
      "metadata": {
        "id": "OoCpiNt9LQpD"
      }
    },
    {
      "cell_type": "code",
      "source": [
        "a = [\n",
        "    {\"name\": \"Alice\", \"score\": 85},\n",
        "    {\"name\": \"Bob\", \"score\": 91},\n",
        "    {\"name\": \"Eve\", \"score\": 78}\n",
        "]\n",
        "\n",
        "# Use sorted() to sort the list 'a' based on the 'score' key\n",
        "# sorted() returns a new list with dictionaries sorted by the 'score'\n",
        "b = sorted(a, key=lambda x: x['score'])\n",
        "print(b)\n"
      ],
      "metadata": {
        "colab": {
          "base_uri": "https://localhost:8080/"
        },
        "id": "l96gCZCXLQAg",
        "outputId": "0d92e037-6b52-49b2-b53c-40310b887303"
      },
      "execution_count": null,
      "outputs": [
        {
          "output_type": "stream",
          "name": "stdout",
          "text": [
            "[{'name': 'Eve', 'score': 78}, {'name': 'Alice', 'score': 85}, {'name': 'Bob', 'score': 91}]\n"
          ]
        }
      ]
    },
    {
      "cell_type": "markdown",
      "source": [
        "#Sort a String"
      ],
      "metadata": {
        "id": "m2VN4_PkMVYv"
      }
    },
    {
      "cell_type": "code",
      "source": [
        "s = \"python\"\n",
        "\n",
        "# Sorting the string\n",
        "sorted_string = 'a'.join(sorted(s))\n",
        "print(sorted_string)\n"
      ],
      "metadata": {
        "colab": {
          "base_uri": "https://localhost:8080/"
        },
        "id": "3DNvcOzfMXD3",
        "outputId": "05b8e486-b378-42d6-d89d-9b6224c8324c"
      },
      "execution_count": null,
      "outputs": [
        {
          "output_type": "stream",
          "name": "stdout",
          "text": [
            "hanaoapatay\n"
          ]
        }
      ]
    },
    {
      "cell_type": "code",
      "source": [
        "s = \"python\"\n",
        "\n",
        "# Custom sorting: reverse alphabetical order\n",
        "sorted_string = ''.join(sorted(s, reverse=True))\n",
        "print(sorted_string)\n"
      ],
      "metadata": {
        "colab": {
          "base_uri": "https://localhost:8080/"
        },
        "id": "EBiM7y3VMaBa",
        "outputId": "4ee5cfed-9c9d-4b70-d838-6f52ad5e638b"
      },
      "execution_count": null,
      "outputs": [
        {
          "output_type": "stream",
          "name": "stdout",
          "text": [
            "ytponh\n"
          ]
        }
      ]
    },
    {
      "cell_type": "markdown",
      "source": [
        "#Sorting a dictionary:"
      ],
      "metadata": {
        "id": "XRvRILBsNGDG"
      }
    },
    {
      "cell_type": "code",
      "source": [
        "d = {'ravi': 10, 'rajnish': 9, 'sanjeev': 15}\n",
        "\n",
        "myKeys = list(d.keys())\n",
        "myKeys.sort()\n",
        "\n",
        "# Sorted Dictionary\n",
        "sd = {i: d[i] for i in myKeys}\n",
        "print(sd)\n"
      ],
      "metadata": {
        "colab": {
          "base_uri": "https://localhost:8080/"
        },
        "id": "FyjoFNt1MqmS",
        "outputId": "370a5146-5bf5-4417-c839-331b9da3c82e"
      },
      "execution_count": null,
      "outputs": [
        {
          "output_type": "stream",
          "name": "stdout",
          "text": [
            "{'rajnish': 9, 'ravi': 10, 'sanjeev': 15}\n"
          ]
        }
      ]
    },
    {
      "cell_type": "markdown",
      "source": [
        "Displaying the Keys in Sorted Order using sorted() on Key"
      ],
      "metadata": {
        "id": "ADQrsu-3hZVD"
      }
    },
    {
      "cell_type": "code",
      "source": [
        "# Initializing key-value pairs\n",
        "d = {2: 56, 1: 2, 5: 12, 4: 24}\n",
        "\n",
        "print(\"Dictionary\", d)\n",
        "for i in sorted(d):\n",
        "  print(i, d[i])\n",
        "\n",
        "\n"
      ],
      "metadata": {
        "colab": {
          "base_uri": "https://localhost:8080/"
        },
        "id": "mdWsWCiiNmez",
        "outputId": "9d9ee97a-692a-43d6-926e-2d5a5e0283ae"
      },
      "execution_count": null,
      "outputs": [
        {
          "output_type": "stream",
          "name": "stdout",
          "text": [
            "Dictionary {2: 56, 1: 2, 5: 12, 4: 24}\n",
            "1 2\n",
            "2 56\n",
            "4 24\n",
            "5 12\n"
          ]
        }
      ]
    },
    {
      "cell_type": "code",
      "source": [
        "# Initializing key-value pairs\n",
        "d = {2: 56, 1: 2, 5: 12, 4: 24}\n",
        "\n",
        "print(\"Dictionary\", d)\n",
        "for i in sorted(d):\n",
        "\n",
        "\n",
        "\n",
        " print(i , end=\" \")"
      ],
      "metadata": {
        "colab": {
          "base_uri": "https://localhost:8080/"
        },
        "id": "KtoafEpzgpZQ",
        "outputId": "c0bd0132-cdb2-4cd2-b6bf-95fc2dc3cb09"
      },
      "execution_count": null,
      "outputs": [
        {
          "output_type": "stream",
          "name": "stdout",
          "text": [
            "Dictionary {2: 56, 1: 2, 5: 12, 4: 24}\n",
            "1 2 4 5 "
          ]
        }
      ]
    },
    {
      "cell_type": "code",
      "source": [
        "# Initializing key-value pairs\n",
        "d = {2: 56, 1: 2, 5: 12, 4: 24}\n",
        "\n",
        "print(\"Dictionary\", d)\n",
        "for i in sorted(d):\n",
        "  print((i, d[i]),end=\" \")\n",
        "\n",
        "\n"
      ],
      "metadata": {
        "colab": {
          "base_uri": "https://localhost:8080/"
        },
        "id": "Rvm_-TQTg-Dq",
        "outputId": "384ed732-5b72-4767-ca1d-9e33a8247e45"
      },
      "execution_count": null,
      "outputs": [
        {
          "output_type": "stream",
          "name": "stdout",
          "text": [
            "Dictionary {2: 56, 1: 2, 5: 12, 4: 24}\n",
            "(1, 2) (2, 56) (4, 24) (5, 12) "
          ]
        }
      ]
    },
    {
      "cell_type": "code",
      "source": [
        "# Initializing the key-value pairs\n",
        "d = {2: 56, 100: 2, 3: 323}\n",
        "\n",
        "print(\"Dictionary\", d)\n",
        "\n",
        "# Sorting key-value pairs by value, and by key if values are the same\n",
        "sorted_items = sorted(d.items(), key=lambda kv: (kv[0], kv[1]))\n",
        "\n",
        "print(sorted_items)\n"
      ],
      "metadata": {
        "colab": {
          "base_uri": "https://localhost:8080/"
        },
        "id": "Cv4xdtzgiaB_",
        "outputId": "e539d6f7-48ae-4fe0-a2dc-e08c5fb39dcb"
      },
      "execution_count": null,
      "outputs": [
        {
          "output_type": "stream",
          "name": "stdout",
          "text": [
            "Dictionary {2: 56, 100: 2, 3: 323}\n",
            "[(2, 56), (3, 323), (100, 2)]\n"
          ]
        }
      ]
    },
    {
      "cell_type": "code",
      "source": [],
      "metadata": {
        "id": "6c3sIWjRklz_"
      },
      "execution_count": null,
      "outputs": []
    }
  ]
}