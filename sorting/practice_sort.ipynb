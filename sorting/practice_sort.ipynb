{
  "nbformat": 4,
  "nbformat_minor": 0,
  "metadata": {
    "colab": {
      "provenance": []
    },
    "kernelspec": {
      "name": "python3",
      "display_name": "Python 3"
    },
    "language_info": {
      "name": "python"
    }
  },
  "cells": [
    {
      "cell_type": "markdown",
      "source": [
        "Check if an Array is Sorted"
      ],
      "metadata": {
        "id": "z5OuYlM6Di1H"
      }
    },
    {
      "cell_type": "code",
      "source": [
        "'''Input: arr[] = [20, 21, 45, 89, 89, 90]\n",
        "Output: Yes\n",
        "\n",
        "Input: arr[] = [20, 20, 45, 89, 89, 90]\n",
        "Output: Yes\n",
        "\n",
        "Input: arr[] = [20, 20, 78, 98, 99, 97]\n",
        "Output: No"
      ],
      "metadata": {
        "id": "5ZAc-ZWED96j"
      },
      "execution_count": null,
      "outputs": []
    },
    {
      "cell_type": "code",
      "source": [
        "def is_sorted(arr):\n",
        "  for i in  range(1,len(arr)):\n",
        "    if arr[i-1] >arr[i]:\n",
        "      return False\n",
        "  return True\n",
        "\n",
        "\n",
        "arr=[20, 21, 45, 89, 89, 90]\n",
        "is_sorted(arr)"
      ],
      "metadata": {
        "colab": {
          "base_uri": "https://localhost:8080/"
        },
        "id": "M8qh8k24D-fa",
        "outputId": "a1724b82-c80b-442b-f07d-1fa28a52d585"
      },
      "execution_count": null,
      "outputs": [
        {
          "output_type": "execute_result",
          "data": {
            "text/plain": [
              "True"
            ]
          },
          "metadata": {},
          "execution_count": 5
        }
      ]
    },
    {
      "cell_type": "markdown",
      "source": [
        "Sort a Binary Array"
      ],
      "metadata": {
        "id": "fSJoB-hNFLlN"
      }
    },
    {
      "cell_type": "code",
      "source": [
        "\n",
        "'''Input :  arr[] = [0, 1, 0, 1, 0, 0, 1, 1, 1, 0]\n",
        "Output : arr[] = [0, 0, 0, 0, 0, 1, 1, 1, 1, 1]\n",
        "\n",
        "\n",
        "Input :  arr[] = [1, 1, 1, 0, 1, 0, 0, 1, 1, 1, 1]\n",
        "Output : arr[] = [0, 0, 0, 1, 1, 1, 1, 1, 1, 1, 1]"
      ],
      "metadata": {
        "id": "iythsLkNDifo"
      },
      "execution_count": null,
      "outputs": []
    },
    {
      "cell_type": "code",
      "execution_count": null,
      "metadata": {
        "colab": {
          "base_uri": "https://localhost:8080/"
        },
        "id": "RmgC1U9X2klw",
        "outputId": "ee749292-d3fb-4938-d090-90c44a65cd8a"
      },
      "outputs": [
        {
          "output_type": "stream",
          "name": "stdout",
          "text": [
            "[0, 0, 0, 0, 0, 1, 1, 1, 1, 1]\n"
          ]
        }
      ],
      "source": [
        "arr = [0, 1, 0, 1, 0, 0, 1, 1, 1, 0]\n",
        "zero=[]\n",
        "one=[]\n",
        "for i in range(len(arr)):\n",
        "  if arr[i]==0:\n",
        "    zero.append(arr[i])\n",
        "  else:\n",
        "    one.append(arr[i])\n",
        "print(zero+one)"
      ]
    },
    {
      "cell_type": "markdown",
      "source": [
        "Move all zeros to end of array"
      ],
      "metadata": {
        "id": "BnqEqMcJGc9a"
      }
    },
    {
      "cell_type": "code",
      "source": [
        "'''nput: arr[] = [1, 2, 0, 4, 3, 0, 5, 0]\n",
        "Output: arr[] = [1, 2, 4, 3, 5, 0, 0, 0]\n",
        "Explanation: There are three 0s that are moved to the end.\n",
        "\n",
        "\n",
        "Input: arr[] = [10, 20, 30]\n",
        "Output: arr[] = [10, 20, 30]\n",
        "Explanation: No change in array as there are no 0s.\n",
        "\n",
        "\n",
        "Input: arr[] = [0, 0]\n",
        "Output: arr[] = [0, 0]\n",
        "Explanation: No change in array as there are all 0s."
      ],
      "metadata": {
        "id": "VrpvW2-fFzCv"
      },
      "execution_count": null,
      "outputs": []
    },
    {
      "cell_type": "code",
      "source": [
        "arr = [1, 2, 0, 4, 3, 0, 5, 0]\n",
        "zero=[]\n",
        "# Create a new list with non-zero elements to avoid modifying the list being iterated.\n",
        "non_zero_elements = []\n",
        "for i in arr:\n",
        "    if i != 0:\n",
        "        non_zero_elements.append(i)\n",
        "    else:\n",
        "        zero.append(i)\n",
        "\n",
        "# Concatenate the non-zero elements with the zeros.\n",
        "result = non_zero_elements + zero\n",
        "print(result)"
      ],
      "metadata": {
        "colab": {
          "base_uri": "https://localhost:8080/"
        },
        "id": "vntjJXV_Gi9K",
        "outputId": "ec159cc6-7006-4e9c-fc81-daed6b1d76bd"
      },
      "execution_count": null,
      "outputs": [
        {
          "output_type": "stream",
          "name": "stdout",
          "text": [
            "[1, 2, 4, 3, 5, 0, 0, 0]\n"
          ]
        }
      ]
    },
    {
      "cell_type": "markdown",
      "source": [
        "Separate Even and Odd Numbers"
      ],
      "metadata": {
        "id": "P4oiYCSRHh6Q"
      }
    },
    {
      "cell_type": "code",
      "source": [
        "'''Input: arr = [0, 1, 2, 3, 4]\n",
        "Output: arr = [0, 2, 4, 1, 3]\n",
        "Explanation: [0, 2, 4] are even and [1, 3] are odd numbers. Please note that [2, 0, 4, 3, 1] or [4, 2, 0, 1, 3] are also valid outputs. We only need to make sure that all even elements are before all odd.\n",
        "\n",
        "\n",
        "Input : arr ={1, 5, 11}\n",
        "Output : arr= {1, 5, 11}\n",
        "Explanation All numbers are odd.'''"
      ],
      "metadata": {
        "id": "0Pthqpv9HldB"
      },
      "execution_count": null,
      "outputs": []
    },
    {
      "cell_type": "code",
      "source": [
        " arr = [0, 1, 2, 3, 4]\n",
        " even=[]\n",
        " odd=[]\n",
        " for i in range(len(arr)):\n",
        "  if arr[i]%2==0:\n",
        "    even.append(i)\n",
        "  else:\n",
        "    odd.append(i)\n",
        "print(even,odd)"
      ],
      "metadata": {
        "colab": {
          "base_uri": "https://localhost:8080/"
        },
        "id": "4lyFqyrpHsLp",
        "outputId": "f09fd387-bd69-498e-b699-d7a0c78e4517"
      },
      "execution_count": null,
      "outputs": [
        {
          "output_type": "stream",
          "name": "stdout",
          "text": [
            "[0, 2, 4] [1, 3]\n"
          ]
        }
      ]
    },
    {
      "cell_type": "code",
      "source": [
        "def separate_even_odd_in_place(arr):\n",
        "\n",
        "    left = 0\n",
        "    right = len(arr) - 1\n",
        "\n",
        "    while left < right:\n",
        "        while arr[left] % 2 == 0 and left < right:\n",
        "            left += 1\n",
        "        while arr[right] % 2 != 0 and left < right:\n",
        "            right -= 1\n",
        "        if left < right:\n",
        "            arr[left], arr[right] = arr[right], arr[left]\n",
        "            left += 1\n",
        "            right -= 1\n",
        "\n",
        "# Example usage:\n",
        "arr = [0, 1, 2, 3, 4]\n",
        "separate_even_odd_in_place(arr)\n",
        "print(arr)  # Output: [0, 4, 2, 3, 1] (or a similar arrangement)"
      ],
      "metadata": {
        "colab": {
          "base_uri": "https://localhost:8080/"
        },
        "id": "N6m0F1yEITTA",
        "outputId": "ae6ce1c4-b4c0-46b5-9395-bd8c69882fa9"
      },
      "execution_count": null,
      "outputs": [
        {
          "output_type": "stream",
          "name": "stdout",
          "text": [
            "[0, 4, 2, 3, 1]\n"
          ]
        }
      ]
    },
    {
      "cell_type": "code",
      "source": [
        "'''nput: arr[] = [12, 11, -13, -5, 6, -7, 5, -3, -6]\n",
        "Output: [-13, -5, -7, -3, -6, 12, 11, 6, 5]\n",
        "Explanation: All negative elements [-13, -5, -7, -3, -6] were arranged before positive numbers [12, 11, 6, 5]. Note that there can be more than one possible output.\n",
        "\n",
        "\n",
        "Input: arr[] = [11, -13, 6, -7, 5]\n",
        "Output: [-13, -7, 11, 6, 5]\n",
        "Explanation: All negative elements [-13, -7] were arranged before positive numbers [11, 6, 5].'''"
      ],
      "metadata": {
        "id": "cdM9gz_rI7aP"
      },
      "execution_count": null,
      "outputs": []
    },
    {
      "cell_type": "code",
      "source": [
        "arr=[12, 11, -13, -5, 6, -7, 5, -3, -6]\n",
        "pos=[]\n",
        "neg=[]\n",
        "for i in range(len(arr)):\n",
        "  if arr[i]<0:\n",
        "    neg.append(arr[i])\n",
        "  else:\n",
        "    pos.append(arr[i])\n",
        "print(neg,pos)"
      ],
      "metadata": {
        "colab": {
          "base_uri": "https://localhost:8080/"
        },
        "id": "m0rCP90ULFvf",
        "outputId": "6b78473e-f611-430b-d13c-475fe5512540"
      },
      "execution_count": null,
      "outputs": [
        {
          "output_type": "stream",
          "name": "stdout",
          "text": [
            "[-13, -5, -7, -3, -6] [12, 11, 6, 5]\n"
          ]
        }
      ]
    },
    {
      "cell_type": "code",
      "source": [
        "arr = [12, 11, -13, -5, 6, -7, 5, -3, -6]\n",
        "neg = [x for x in arr if x < 0]\n",
        "pos = [x for x in arr if x >= 0]\n",
        "print(neg, pos)"
      ],
      "metadata": {
        "colab": {
          "base_uri": "https://localhost:8080/"
        },
        "id": "9RNEh2T9LRml",
        "outputId": "5f047f77-52d7-411e-c986-7c75fb2c088f"
      },
      "execution_count": null,
      "outputs": [
        {
          "output_type": "stream",
          "name": "stdout",
          "text": [
            "[-13, -5, -7, -3, -6] [12, 11, 6, 5]\n"
          ]
        }
      ]
    },
    {
      "cell_type": "code",
      "source": [
        "arr = [12, 11, -13, -5, 6, -7, 5, -3, -6]\n",
        "neg = [x for x in arr if x %2== 0]\n",
        "pos = [x for x in arr if x %2!= 0]\n",
        "print(neg, pos)"
      ],
      "metadata": {
        "colab": {
          "base_uri": "https://localhost:8080/"
        },
        "id": "1JOE_TIrLwMH",
        "outputId": "df4030e9-d332-4db5-a86a-e81751279613"
      },
      "execution_count": null,
      "outputs": [
        {
          "output_type": "stream",
          "name": "stdout",
          "text": [
            "[12, 6, -6] [11, -13, -5, -7, 5, -3]\n"
          ]
        }
      ]
    },
    {
      "cell_type": "markdown",
      "source": [
        "Row wise sorting in 2D array"
      ],
      "metadata": {
        "id": "bXVW5zv_HUsP"
      }
    },
    {
      "cell_type": "code",
      "source": [
        "'''Input :\n",
        "77 11 22 3\n",
        "11 89 1 12\n",
        "32 11 56 7\n",
        "11 22 44 33\n",
        "Output :\n",
        "3 11 22 77\n",
        "1 11 12 89\n",
        "7 11 32 56\n",
        "11 22 33 44\n",
        "\n",
        "Input :\n",
        "8 6 4 5\n",
        "3 5 2 1\n",
        "9 7 4 2\n",
        "7 8 9 5\n",
        "Output :\n",
        "4 5 6 8\n",
        "1 2 3 5\n",
        "2 4 7 9\n",
        "5 7 8 9"
      ],
      "metadata": {
        "id": "4B0fgLhbMWxa"
      },
      "execution_count": null,
      "outputs": []
    },
    {
      "cell_type": "code",
      "source": [
        "def matrix1(matrix):\n",
        "    for i in range(len(matrix)):\n",
        "        matrix[i].sort()\n",
        "    return matrix\n",
        "\n",
        "\n",
        "\n",
        "\n",
        "mat = [\n",
        "    [77, 11, 22, 3],\n",
        "    [11, 89, 1, 12],\n",
        "    [32, 11, 56, 7],\n",
        "    [11, 22, 44, 33]\n",
        "]\n",
        "print(matrix1(mat))\n"
      ],
      "metadata": {
        "colab": {
          "base_uri": "https://localhost:8080/"
        },
        "id": "p9TUw-SEIE7_",
        "outputId": "e96c30dd-668e-4ae7-ccd9-15a0d9b58df0"
      },
      "execution_count": null,
      "outputs": [
        {
          "output_type": "stream",
          "name": "stdout",
          "text": [
            "[[3, 11, 22, 77], [1, 11, 12, 89], [7, 11, 32, 56], [11, 22, 33, 44]]\n"
          ]
        }
      ]
    },
    {
      "cell_type": "code",
      "source": [
        "def row_wise_sort(matrix):\n",
        "    for row in matrix:\n",
        "        row.sort()\n",
        "    return matrix\n",
        "\n",
        "# Example usage:\n",
        "matrix = [\n",
        "    [77, 11, 22, 3],\n",
        "    [11, 89, 1, 12],\n",
        "    [32, 11, 56, 7],\n",
        "    [11, 22, 44, 33]\n",
        "]\n",
        "\n",
        "sorted_matrix1 = row_wise_sort(matrix)\n",
        "print(sorted_matrix1)"
      ],
      "metadata": {
        "colab": {
          "base_uri": "https://localhost:8080/"
        },
        "id": "VhISrKAdIpz0",
        "outputId": "0245fb58-1fa9-4f85-9d59-3cd9571f2dbc"
      },
      "execution_count": null,
      "outputs": [
        {
          "output_type": "stream",
          "name": "stdout",
          "text": [
            "[[3, 11, 22, 77], [1, 11, 12, 89], [7, 11, 32, 56], [11, 22, 33, 44]]\n"
          ]
        }
      ]
    },
    {
      "cell_type": "code",
      "source": [
        "import numpy as np\n",
        "def row_wise_sort(matrix1):\n",
        "  matrix1=np.array(matrix1)\n",
        "  sorted_matrix1=np.sort(matrix1,axis=1)\n",
        "  return sorted_matrix1\n",
        "\n",
        "\n",
        "\n",
        "\n",
        "\n",
        "matrix1 = [\n",
        "    [77, 11, 22, 3],\n",
        "    [11, 89, 1, 12],\n",
        "    [32, 11, 56, 7],\n",
        "    [11, 22, 44, 33]\n",
        "]\n",
        "\n",
        "sorted_matrix1 = row_wise_sort(matrix1)\n",
        "print(sorted_matrix1)"
      ],
      "metadata": {
        "colab": {
          "base_uri": "https://localhost:8080/"
        },
        "id": "cid9eK9MI42e",
        "outputId": "efb12724-185d-4a6d-9696-56bb891f5d9e"
      },
      "execution_count": null,
      "outputs": [
        {
          "output_type": "stream",
          "name": "stdout",
          "text": [
            "[[ 3 11 22 77]\n",
            " [ 1 11 12 89]\n",
            " [ 7 11 32 56]\n",
            " [11 22 33 44]]\n"
          ]
        }
      ]
    },
    {
      "cell_type": "code",
      "source": [
        "import numpy as np\n",
        "\n",
        "def print_matrix_numpy(lst, rows, cols):\n",
        "    \"\"\"Prints a list as a matrix using NumPy.\n",
        "\n",
        "    Args:\n",
        "        lst: The list to print as a matrix.\n",
        "        rows: The number of rows in the matrix.\n",
        "        cols: The number of columns in the matrix.\n",
        "    \"\"\"\n",
        "\n",
        "    matrix = np.array(lst).reshape(rows, cols)\n",
        "    print(matrix)\n",
        "\n",
        "# Example usage\n",
        "my_list = [1, 2, 3, 4, 5, 6, 7, 8, 9, 10, 11, 12]\n",
        "print_matrix_numpy(my_list, 4, 3)  # Prints the list as a 3x4 matrix"
      ],
      "metadata": {
        "colab": {
          "base_uri": "https://localhost:8080/"
        },
        "id": "Vt32OHB6LKsC",
        "outputId": "6c132116-a2cd-4990-a932-410639b68113"
      },
      "execution_count": null,
      "outputs": [
        {
          "output_type": "stream",
          "name": "stdout",
          "text": [
            "[[ 1  2  3]\n",
            " [ 4  5  6]\n",
            " [ 7  8  9]\n",
            " [10 11 12]]\n"
          ]
        }
      ]
    },
    {
      "cell_type": "code",
      "source": [
        "# Python3 code to sort 2D matrix row-wise\n",
        "def sortRowWise(m):\n",
        "\n",
        "    # One by one sort individual rows.\n",
        "    for i in range(len(m)):\n",
        "        m[i].sort()\n",
        "\n",
        "    # printing the sorted matrix\n",
        "    for i in range(len(m)):\n",
        "        for j in range(len(m[i])):\n",
        "            print(m[i][j], end=\" \")\n",
        "        print()\n",
        "\n",
        "    return 0\n",
        "\n",
        "# Driver code\n",
        "m = [[9, 8, 7, 1 ],[7, 3, 0, 2],[9, 5, 3, 2 ],[ 6, 3, 1, 2]]\n",
        "\n",
        "sortRowWise(m)\n",
        "\n",
        "# This code is contributed by shubhamsingh10\n"
      ],
      "metadata": {
        "colab": {
          "base_uri": "https://localhost:8080/"
        },
        "id": "oYxTm3R6L9qx",
        "outputId": "76ef93cc-2b63-4c6d-f096-28f75d95910a"
      },
      "execution_count": null,
      "outputs": [
        {
          "output_type": "stream",
          "name": "stdout",
          "text": [
            "1 7 8 9 \n",
            "0 2 3 7 \n",
            "2 3 5 9 \n",
            "1 2 3 6 \n"
          ]
        },
        {
          "output_type": "execute_result",
          "data": {
            "text/plain": [
              "0"
            ]
          },
          "metadata": {},
          "execution_count": 13
        }
      ]
    },
    {
      "cell_type": "markdown",
      "source": [
        "Sort the given matrix"
      ],
      "metadata": {
        "id": "z1G1YfLFMxbg"
      }
    },
    {
      "cell_type": "code",
      "source": [
        "'''Input : mat[][] = { {5, 4, 7},\n",
        "                       {1, 3, 8},\n",
        "                       {2, 9, 6} }\n",
        "Output : 1 2 3\n",
        "         4 5 6\n",
        "         7 8 9\n",
        "\n",
        "\n",
        "Input: mat[][] = { {5, 4, 7},\n",
        "                   {1, 3, 8} }\n",
        "Output: 1 3 4\n",
        "        5 7 8"
      ],
      "metadata": {
        "id": "GZVSU2F8MkA7"
      },
      "execution_count": null,
      "outputs": []
    },
    {
      "cell_type": "code",
      "source": [
        "def sorted_mat(mat):\n",
        "  for i in range(len(mat)):\n",
        "    mat[i].sort()\n",
        "  return mat\n",
        "\n",
        "  for row in sorted_mat:\n",
        "\n",
        "      for element in row:\n",
        "       print(element, end=\" \")\n",
        "  print()\n",
        "\n",
        "\n",
        "# Example usage:\n",
        "mat1 = [[5, 4, 7], [1, 3, 8], [2, 9, 6]]\n",
        "print(sorted_mat(mat1))"
      ],
      "metadata": {
        "colab": {
          "base_uri": "https://localhost:8080/"
        },
        "id": "wJvzs9jiNbGu",
        "outputId": "b9ccf1dc-7ac3-4595-cc44-eaed4945236c"
      },
      "execution_count": null,
      "outputs": [
        {
          "output_type": "stream",
          "name": "stdout",
          "text": [
            "[[4, 5, 7], [1, 3, 8], [2, 6, 9]]\n"
          ]
        }
      ]
    },
    {
      "cell_type": "code",
      "source": [
        "def sorted_mat(mat1):\n",
        "  matrix=np.array(mat1) # convert into numpy array\n",
        "  sorted_matrix=np.sort(matrix.flatten(),axis=0).reshape(matrix.shape)\n",
        "  return sorted_matrix\n",
        "\n",
        "mat1 = [[5, 4, 7], [1, 3, 8], [2, 9, 6]]\n",
        "print(sorted_mat(mat1))\n"
      ],
      "metadata": {
        "colab": {
          "base_uri": "https://localhost:8080/"
        },
        "id": "nlItGAskPD6c",
        "outputId": "9857eda2-6bc3-42ef-a678-600cc0747229"
      },
      "execution_count": null,
      "outputs": [
        {
          "output_type": "stream",
          "name": "stdout",
          "text": [
            "[[1 2 3]\n",
            " [4 5 6]\n",
            " [7 8 9]]\n"
          ]
        }
      ]
    },
    {
      "cell_type": "code",
      "source": [
        "# Python program for the above approach\n",
        "# driver code\n",
        "v = [[5,4,7], [1,3,8], [2,9,6]]\n",
        "n = len(v)\n",
        "\n",
        "x = []\n",
        "for i in range(n):\n",
        "    for j in range(n):\n",
        "        x.append(v[i][j])\n",
        "\n",
        "x.sort()\n",
        "k = 0\n",
        "for i in range(n):\n",
        "    for j in range(n):\n",
        "        v[i][j] = x[k]\n",
        "        k += 1\n",
        "\n",
        "print(\"Sorted Matrix will be: \")\n",
        "for i in range(n):\n",
        "    for j in range(n):\n",
        "        print(v[i][j], end=\" \")\n",
        "    print(\"\")\n",
        "\n",
        "# THIS CODE IS CONTRIBUTED BY KIRTI AGARWAL(KIRTIAGARWAL23121999)\n"
      ],
      "metadata": {
        "colab": {
          "base_uri": "https://localhost:8080/"
        },
        "id": "1jKaIb1WPlsF",
        "outputId": "9f875855-9506-4a95-a685-823a4a13aea7"
      },
      "execution_count": null,
      "outputs": [
        {
          "output_type": "stream",
          "name": "stdout",
          "text": [
            "Sorted Matrix will be: \n",
            "1 2 3 \n",
            "4 5 6 \n",
            "7 8 9 \n"
          ]
        }
      ]
    },
    {
      "cell_type": "markdown",
      "source": [
        "Sort an array in wave form\n"
      ],
      "metadata": {
        "id": "v9gOxUTijaFT"
      }
    },
    {
      "cell_type": "code",
      "source": [
        "def wave_sort(arr):\n",
        "  arr.sort()\n",
        "  for i in range(0,len(arr),2):\n",
        "    arr[i],arr[i+1]=arr[i+1],arr[i]\n",
        "  return arr\n",
        "\n",
        "arr = [10, 5, 6, 3, 2, 20, 100, 80]\n",
        "print(wave_sort(arr))  #n log n"
      ],
      "metadata": {
        "id": "pxQpMrWMTY4H",
        "colab": {
          "base_uri": "https://localhost:8080/"
        },
        "outputId": "fe38006d-1034-4fab-ac20-9e08e277a04b"
      },
      "execution_count": 4,
      "outputs": [
        {
          "output_type": "stream",
          "name": "stdout",
          "text": [
            "[3, 2, 6, 5, 20, 10, 100, 80]\n"
          ]
        }
      ]
    },
    {
      "cell_type": "code",
      "source": [
        "def wave_sort_optimized(arr):\n",
        "\n",
        "   for i in range(0,len(arr),2):\n",
        "    if i>0 and arr[i]<arr[i-1]:\n",
        "      arr[i],arr[i-1]=arr[i-1],arr[i-1]\n",
        "    if i<0 and arr[i]>arr[i+1]:\n",
        "      arr[i],arr[i+1]=arr[i+1],arr[i]\n",
        "   return arr\n",
        "\n",
        "# Example usage:\n",
        "arr = [10, 5, 6, 3, 2, 20, 100, 80]\n",
        "sorted_arr = wave_sort_optimized(arr)   #O(n)\n",
        "print(sorted_arr)  # Output: [10, 5, 6, 2, 20, 3, 100, 80]"
      ],
      "metadata": {
        "colab": {
          "base_uri": "https://localhost:8080/"
        },
        "id": "xkjI3Ga5l5wx",
        "outputId": "232199ac-3bdc-4bf3-d458-69644032771c"
      },
      "execution_count": 6,
      "outputs": [
        {
          "output_type": "stream",
          "name": "stdout",
          "text": [
            "[10, 5, 6, 3, 3, 20, 100, 80]\n"
          ]
        }
      ]
    },
    {
      "cell_type": "markdown",
      "source": [
        "Sort elements by frequency"
      ],
      "metadata": {
        "id": "N1ZxElPYszTC"
      }
    },
    {
      "cell_type": "code",
      "source": [
        "'''Input:  arr[] = {2, 5, 2, 8, 5, 6, 8, 8}\n",
        "Output: arr[] = {8, 8, 8, 2, 2, 5, 5, 6}\n",
        "\n",
        "\n",
        "Input: arr[] = {2, 5, 2, 6, -1, 9999999, 5, 8, 8, 8}\n",
        "Output: arr[] = {8, 8, 8, 2, 2, 5, 5, 6, -1, 9999999}"
      ],
      "metadata": {
        "id": "M46F44DcpRQL"
      },
      "execution_count": null,
      "outputs": []
    },
    {
      "cell_type": "code",
      "source": [
        "'''Input: arr[] = {2 5 2 8 5 6 8 8}\n",
        "\n",
        "################approach_____________________________________________________________\n",
        "Step1: Sort the array,\n",
        "After sorting we get: 2 2 5 5 6 8 8 8\n",
        "indexes:                    0 2 1 4 5 3 6 7\n",
        "\n",
        "\n",
        "\n",
        "Step 2: Now construct the 2D array to maintain the count of every element as\n",
        "Index, Count\n",
        "0,      2\n",
        "1,      2\n",
        "5,      1\n",
        "3,      3\n",
        "\n",
        "\n",
        "Step 3: Sort the array by count (consider indexes in case of tie)\n",
        "{{3, 3}, {0, 2}, {1, 2}, {5, 1}}\n",
        "Print the elements using indexes in the above 2D array"
      ],
      "metadata": {
        "id": "Vz0tbW0NvzoC"
      },
      "execution_count": null,
      "outputs": []
    },
    {
      "cell_type": "code",
      "source": [
        "def count_and_sort(arr):\n",
        "    \"\"\"\n",
        "    Counts the occurrences of each element in an array, sorts the elements by count (and index if counts are equal), and prints the elements in a format where the value is the count.\n",
        "\n",
        "    Args:\n",
        "        arr: The input array of integers.\n",
        "\n",
        "    Returns:\n",
        "        None. Prints the sorted elements with their counts in the specified format.\n",
        "    \"\"\"\n",
        "\n",
        "    counts = {}\n",
        "    for num in arr:\n",
        "        counts[num] = counts.get(num, 0) + 1\n",
        "\n",
        "    # Sort the items in the dictionary by count, then by the element itself.\n",
        "    sorted_counts = sorted(counts.items(), key=lambda item: (item[1], item[0]), reverse=True)\n",
        "\n",
        "    # Print the elements and their counts in the desired format (value = times of key)\n",
        "    result = []\n",
        "    for element, count in sorted_counts:\n",
        "        result.extend([element] * count)\n",
        "    print(*result)  # Print elements in a space-separated format\n",
        "\n",
        "\n",
        "# Example usage (with the input provided)\n",
        "arr = [8, 8, 8, 2, 2, 5, 5, 6]\n",
        "count_and_sort(arr)"
      ],
      "metadata": {
        "colab": {
          "base_uri": "https://localhost:8080/"
        },
        "id": "-k-tpaLdtNft",
        "outputId": "7ab9698c-c4aa-426c-f4f6-14f1c5d34efc"
      },
      "execution_count": 13,
      "outputs": [
        {
          "output_type": "stream",
          "name": "stdout",
          "text": [
            "8 8 8 5 5 2 2 6\n"
          ]
        }
      ]
    },
    {
      "cell_type": "code",
      "source": [],
      "metadata": {
        "id": "m8-87jfytTIY"
      },
      "execution_count": null,
      "outputs": []
    }
  ]
}