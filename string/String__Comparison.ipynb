{
  "nbformat": 4,
  "nbformat_minor": 0,
  "metadata": {
    "colab": {
      "provenance": []
    },
    "kernelspec": {
      "name": "python3",
      "display_name": "Python 3"
    },
    "language_info": {
      "name": "python"
    }
  },
  "cells": [
    {
      "cell_type": "code",
      "execution_count": 1,
      "metadata": {
        "colab": {
          "base_uri": "https://localhost:8080/"
        },
        "id": "_98a6cvnzwX6",
        "outputId": "5b9a4457-7096-4a47-e4b9-e1aa435dd698"
      },
      "outputs": [
        {
          "output_type": "stream",
          "name": "stdout",
          "text": [
            "False\n",
            "True\n",
            "True\n"
          ]
        }
      ],
      "source": [
        "s1 = \"apple\"\n",
        "s2 = \"banana\"\n",
        "\n",
        "# \"apple\" is not equal to \"banana\", therefore it is False\n",
        "print(s1 == s2)\n",
        "\n",
        "# \"apple\" is different from \"banana\", therefore it is True\n",
        "print(s1 != s2)\n",
        "\n",
        "# \"apple\" comes before \"banana\" lexicographically, therefore it is True\n",
        "print(s1 < s2)\n"
      ]
    },
    {
      "cell_type": "code",
      "source": [
        "s1 = \"apple\"\n",
        "s2 = \"banana\"\n",
        "\n",
        "# \"apple\" appears before \"banana\" alphabetically, therefore it is True\n",
        "print(s1 < s2)\n",
        "\n",
        "# \"banana\" comes after \"apple\", therefore it is True\n",
        "print(s2 > s1)\n"
      ],
      "metadata": {
        "colab": {
          "base_uri": "https://localhost:8080/"
        },
        "id": "jecP-_v-0lBo",
        "outputId": "6c103ae5-5f00-49d0-a86f-69c7d689e3c0"
      },
      "execution_count": 2,
      "outputs": [
        {
          "output_type": "stream",
          "name": "stdout",
          "text": [
            "True\n",
            "True\n"
          ]
        }
      ]
    },
    {
      "cell_type": "code",
      "source": [
        "s1 = \"Apple\"\n",
        "s2 = \"apple\"\n",
        "\n",
        "# Both strings are same ignoring case, therefore it is True\n",
        "print(s1.lower() == s2.lower())\n"
      ],
      "metadata": {
        "colab": {
          "base_uri": "https://localhost:8080/"
        },
        "id": "n6uDpLth1BBa",
        "outputId": "44a058c9-ee08-4c6a-b085-a7643c5611cc"
      },
      "execution_count": 3,
      "outputs": [
        {
          "output_type": "stream",
          "name": "stdout",
          "text": [
            "True\n"
          ]
        }
      ]
    },
    {
      "cell_type": "code",
      "source": [
        "s = \"hello world\"\n",
        "\n",
        "# 's' starts with \"hello\", therefore it is True\n",
        "print(s.startswith(\"hello\"))\n",
        "\n",
        "# 's' ends with \"world\", therefore it is True\n",
        "print(s.endswith(\"hello\"))\n"
      ],
      "metadata": {
        "colab": {
          "base_uri": "https://localhost:8080/"
        },
        "id": "8GaZJQex1HwS",
        "outputId": "b1ecfef9-2a4c-4468-c1f5-1a8c9d650e8a"
      },
      "execution_count": 4,
      "outputs": [
        {
          "output_type": "stream",
          "name": "stdout",
          "text": [
            "True\n",
            "False\n"
          ]
        }
      ]
    },
    {
      "cell_type": "markdown",
      "source": [
        "7 Useful String Functions in Python\n",
        "1.  Capitalize\n",
        "2. Count\n",
        "3. Find\n",
        "4. Lower\n",
        "5. Upper\n",
        "6. Replace\n",
        "7. Join"
      ],
      "metadata": {
        "id": "ZXe9H8KG2M6V"
      }
    },
    {
      "cell_type": "code",
      "source": [
        "# input from users\n",
        "sentence_1 = \"mY name is YUVRAJ\"\n",
        "sentence_2 = \"MY name is Ansul\"\n",
        "\n",
        "# Convert case using capitalize()\n",
        "capitalized_string = sentence_1.capitalize()\n",
        "print(\"Sentence 1 output -> \", capitalized_string)\n",
        "capitalized_string = sentence_2.capitalize()\n",
        "print(\"Sentence 2 output -> \", capitalized_string)\n"
      ],
      "metadata": {
        "colab": {
          "base_uri": "https://localhost:8080/"
        },
        "id": "hLPwcUZX1tdE",
        "outputId": "486ae861-cc4a-4c3e-98c8-48ff78d2b055"
      },
      "execution_count": 5,
      "outputs": [
        {
          "output_type": "stream",
          "name": "stdout",
          "text": [
            "Sentence 1 output ->  My name is yuvraj\n",
            "Sentence 2 output ->  My name is ansul\n"
          ]
        }
      ]
    },
    {
      "cell_type": "markdown",
      "source": [
        "##2. Count"
      ],
      "metadata": {
        "id": "JyZQIKAc2hu_"
      }
    },
    {
      "cell_type": "code",
      "source": [
        "message = 'GFG KARLO HO JAYEGA'\n",
        "\n",
        "# number of occurrence of 'G'\n",
        "print('Number of occurrence of G:', message.count('A'))\n"
      ],
      "metadata": {
        "colab": {
          "base_uri": "https://localhost:8080/"
        },
        "id": "gIgSA_AJ2a8w",
        "outputId": "c755ba2d-dd3e-46c2-8d5c-74d6e674da05"
      },
      "execution_count": 7,
      "outputs": [
        {
          "output_type": "stream",
          "name": "stdout",
          "text": [
            "Number of occurrence of G: 3\n"
          ]
        }
      ]
    },
    {
      "cell_type": "markdown",
      "source": [
        "#find"
      ],
      "metadata": {
        "id": "VyV3jH8O21Yl"
      }
    },
    {
      "cell_type": "code",
      "source": [
        "message = 'Yuvraj is my name'\n",
        "\n",
        "# check the index of 'is'\n",
        "print(message.find('is'))\n"
      ],
      "metadata": {
        "colab": {
          "base_uri": "https://localhost:8080/"
        },
        "id": "9LBW87sR2ufQ",
        "outputId": "6752d417-7d38-4c8f-80e0-37fca4100403"
      },
      "execution_count": 8,
      "outputs": [
        {
          "output_type": "stream",
          "name": "stdout",
          "text": [
            "7\n"
          ]
        }
      ]
    },
    {
      "cell_type": "code",
      "source": [
        "message = 'GEEKSFORGEEKS IS A COMPUTER SCIENCE PORTAL'\n",
        "\n",
        "# convert message to lowercase\n",
        "print(message.lower())\n"
      ],
      "metadata": {
        "colab": {
          "base_uri": "https://localhost:8080/"
        },
        "id": "ThkIh36i26y-",
        "outputId": "41c07f3f-9fe3-49a3-9634-370aa0f85063"
      },
      "execution_count": 9,
      "outputs": [
        {
          "output_type": "stream",
          "name": "stdout",
          "text": [
            "geeksforgeeks is a computer science portal\n"
          ]
        }
      ]
    },
    {
      "cell_type": "code",
      "source": [
        "message = 'geeksforgeeks is a computer science portal'\n",
        "\n",
        "# convert message to uppercase\n",
        "print(message.upper())\n"
      ],
      "metadata": {
        "colab": {
          "base_uri": "https://localhost:8080/"
        },
        "id": "QIjpn57D3B7Z",
        "outputId": "68848943-2311-47a8-eeaa-de5e2127fdb2"
      },
      "execution_count": 10,
      "outputs": [
        {
          "output_type": "stream",
          "name": "stdout",
          "text": [
            "GEEKSFORGEEKS IS A COMPUTER SCIENCE PORTAL\n"
          ]
        }
      ]
    },
    {
      "cell_type": "code",
      "source": [
        "#string.replace(old, new, count)\n",
        "text = 'subway surfer'\n",
        "\n",
        "# replace s with t\n",
        "replaced_text = text.replace('s', 't',1)\n",
        "print(replaced_text)\n"
      ],
      "metadata": {
        "colab": {
          "base_uri": "https://localhost:8080/"
        },
        "id": "3yvzwoCN3F-i",
        "outputId": "22ec06bc-c1f6-4dab-e5c3-3a0a017c3e2a"
      },
      "execution_count": 14,
      "outputs": [
        {
          "output_type": "stream",
          "name": "stdout",
          "text": [
            "tubway surfer\n"
          ]
        }
      ]
    },
    {
      "cell_type": "code",
      "source": [
        "text = ['Anshul', 'is', 'my', 'only', 'friend']\n",
        "\n",
        "# join elements of text with space\n",
        "print(' '.join(text))\n"
      ],
      "metadata": {
        "colab": {
          "base_uri": "https://localhost:8080/"
        },
        "id": "4irhrKl_3XzO",
        "outputId": "1a625519-8e24-4b2e-f2cd-fa6cd61a2c11"
      },
      "execution_count": 15,
      "outputs": [
        {
          "output_type": "stream",
          "name": "stdout",
          "text": [
            "Anshul is my only friend\n"
          ]
        }
      ]
    },
    {
      "cell_type": "markdown",
      "source": [
        "#Convert integer to string in Python"
      ],
      "metadata": {
        "id": "8WDbDew-4PJL"
      }
    },
    {
      "cell_type": "markdown",
      "source": [
        "Using str() Function"
      ],
      "metadata": {
        "id": "hWVW-ozR4q5l"
      }
    },
    {
      "cell_type": "code",
      "source": [
        "n = 42\n",
        "\n",
        "# Convert integer to string\n",
        "s = str(n)\n",
        "\n",
        "print(s)\n"
      ],
      "metadata": {
        "colab": {
          "base_uri": "https://localhost:8080/"
        },
        "id": "pkdhulG-3zsm",
        "outputId": "002c10ed-4612-4210-a13a-a23aadf07423"
      },
      "execution_count": 16,
      "outputs": [
        {
          "output_type": "stream",
          "name": "stdout",
          "text": [
            "42\n"
          ]
        }
      ]
    },
    {
      "cell_type": "code",
      "source": [
        "n = 42\n",
        "\n",
        "# Convert to string using f-string\n",
        "s = f\"{n}\"\n",
        "\n",
        "print(s)\n"
      ],
      "metadata": {
        "colab": {
          "base_uri": "https://localhost:8080/"
        },
        "id": "iJQrq6oB4v7E",
        "outputId": "96d92a73-574a-40ec-c5e4-2d9ca9bf7c82"
      },
      "execution_count": 17,
      "outputs": [
        {
          "output_type": "stream",
          "name": "stdout",
          "text": [
            "42\n"
          ]
        }
      ]
    },
    {
      "cell_type": "code",
      "source": [
        "n = 42\n",
        "\n",
        "# Convert using format()\n",
        "s = \"{}\".format(n)\n",
        "\n",
        "print(s)\n"
      ],
      "metadata": {
        "colab": {
          "base_uri": "https://localhost:8080/"
        },
        "id": "zc42Ylst5CS4",
        "outputId": "0a976278-f326-4b5e-cb8c-da3d2c909296"
      },
      "execution_count": 18,
      "outputs": [
        {
          "output_type": "stream",
          "name": "stdout",
          "text": [
            "42\n"
          ]
        }
      ]
    },
    {
      "cell_type": "code",
      "source": [
        "n = 42\n",
        "\n",
        "# Convert integer to string using %s\n",
        "s = \"%s\" % n\n",
        "\n",
        "print(s)\n"
      ],
      "metadata": {
        "colab": {
          "base_uri": "https://localhost:8080/"
        },
        "id": "a8xhKiYl5MEk",
        "outputId": "c8835a8b-d168-4108-d9a1-8d3da56de948"
      },
      "execution_count": 19,
      "outputs": [
        {
          "output_type": "stream",
          "name": "stdout",
          "text": [
            "42\n"
          ]
        }
      ]
    },
    {
      "cell_type": "code",
      "source": [
        "#Using repr() for Debugging\n",
        "n = 42\n",
        "\n",
        "# Convert using repr()\n",
        "s = repr(n)\n",
        "\n",
        "print(s)\n"
      ],
      "metadata": {
        "colab": {
          "base_uri": "https://localhost:8080/"
        },
        "id": "unQP2Wmo5Q-m",
        "outputId": "407b80dc-50f4-47b4-f992-1b095a19f627"
      },
      "execution_count": 21,
      "outputs": [
        {
          "output_type": "stream",
          "name": "stdout",
          "text": [
            "42\n"
          ]
        }
      ]
    },
    {
      "cell_type": "markdown",
      "source": [
        "The repr() function is usually used for debugging, as it gives a detailed string version of an object. While it also converts integers to strings, it’s not the most common method for simple integer-to-string conversion."
      ],
      "metadata": {
        "id": "PByKaIk25t3d"
      }
    },
    {
      "cell_type": "markdown",
      "source": [
        "#Convert String to Int in Python"
      ],
      "metadata": {
        "id": "TwgtAQ4g6UlX"
      }
    },
    {
      "cell_type": "markdown",
      "source": [
        "Using int() Function"
      ],
      "metadata": {
        "id": "nq3ohuAY6wbb"
      }
    },
    {
      "cell_type": "code",
      "source": [
        "s = \"42\"\n",
        "num = int(s)\n",
        "print(num)\n"
      ],
      "metadata": {
        "colab": {
          "base_uri": "https://localhost:8080/"
        },
        "id": "7Y2lWRMp5jyG",
        "outputId": "93e7636f-1a30-469a-dc8a-acde0fe3d4c9"
      },
      "execution_count": 22,
      "outputs": [
        {
          "output_type": "stream",
          "name": "stdout",
          "text": [
            "42\n"
          ]
        }
      ]
    },
    {
      "cell_type": "code",
      "source": [
        "# Binary string\n",
        "s = \"1010\"\n",
        "num = int(s, 2)\n",
        "print(num)\n",
        "\n",
        "# Hexadecimal string\n",
        "s = \"A\"\n",
        "num = int(s, 16)\n",
        "print(num)\n"
      ],
      "metadata": {
        "colab": {
          "base_uri": "https://localhost:8080/"
        },
        "id": "X2cv2QXK6zqL",
        "outputId": "13d8ae3c-a189-43ca-83aa-ef27e99f429a"
      },
      "execution_count": 27,
      "outputs": [
        {
          "output_type": "stream",
          "name": "stdout",
          "text": [
            "10\n",
            "10\n"
          ]
        }
      ]
    },
    {
      "cell_type": "markdown",
      "source": [
        "Handling Invalid Input String"
      ],
      "metadata": {
        "id": "V0l4YqEE7ojZ"
      }
    },
    {
      "cell_type": "code",
      "source": [
        "s = \"abc\"\n",
        "try:\n",
        "    num = int(s)\n",
        "    print(num)\n",
        "except ValueError:\n",
        "    print(\"Invalid input: cannot convert to integer\")\n"
      ],
      "metadata": {
        "colab": {
          "base_uri": "https://localhost:8080/"
        },
        "id": "fOcKnfwy7J16",
        "outputId": "f3f4aac1-97bf-44f9-da3d-56323df019ad"
      },
      "execution_count": 28,
      "outputs": [
        {
          "output_type": "stream",
          "name": "stdout",
          "text": [
            "Invalid input: cannot convert to integer\n"
          ]
        }
      ]
    },
    {
      "cell_type": "code",
      "source": [
        "s = \"abc\"\n",
        "num = int(s)\n",
        "print(num)\n"
      ],
      "metadata": {
        "colab": {
          "base_uri": "https://localhost:8080/",
          "height": 183
        },
        "id": "zYm6LLP674xd",
        "outputId": "1a39b11e-68f3-4e17-81ae-a66a8abbd285"
      },
      "execution_count": 29,
      "outputs": [
        {
          "output_type": "error",
          "ename": "ValueError",
          "evalue": "invalid literal for int() with base 10: 'abc'",
          "traceback": [
            "\u001b[0;31m---------------------------------------------------------------------------\u001b[0m",
            "\u001b[0;31mValueError\u001b[0m                                Traceback (most recent call last)",
            "\u001b[0;32m<ipython-input-29-645844fe10bd>\u001b[0m in \u001b[0;36m<cell line: 0>\u001b[0;34m()\u001b[0m\n\u001b[1;32m      1\u001b[0m \u001b[0ms\u001b[0m \u001b[0;34m=\u001b[0m \u001b[0;34m\"abc\"\u001b[0m\u001b[0;34m\u001b[0m\u001b[0;34m\u001b[0m\u001b[0m\n\u001b[0;32m----> 2\u001b[0;31m \u001b[0mnum\u001b[0m \u001b[0;34m=\u001b[0m \u001b[0mint\u001b[0m\u001b[0;34m(\u001b[0m\u001b[0ms\u001b[0m\u001b[0;34m)\u001b[0m\u001b[0;34m\u001b[0m\u001b[0;34m\u001b[0m\u001b[0m\n\u001b[0m\u001b[1;32m      3\u001b[0m \u001b[0mprint\u001b[0m\u001b[0;34m(\u001b[0m\u001b[0mnum\u001b[0m\u001b[0;34m)\u001b[0m\u001b[0;34m\u001b[0m\u001b[0;34m\u001b[0m\u001b[0m\n",
            "\u001b[0;31mValueError\u001b[0m: invalid literal for int() with base 10: 'abc'"
          ]
        }
      ]
    },
    {
      "cell_type": "code",
      "source": [
        "s = \"abc\"\n",
        "try:\n",
        "    num = int(s)\n",
        "    print(\"Successfully converted to integer:\", num)\n",
        "except ValueError:\n",
        "    print(\"Invalid input: cannot convert\", s, \"to integer.\")\n",
        "    num = 0  # Assign a default value (0 in this case)"
      ],
      "metadata": {
        "colab": {
          "base_uri": "https://localhost:8080/"
        },
        "id": "YT2FZfgp7_XP",
        "outputId": "f241c541-e8f0-4bb7-dce3-ce29ecd6aa55"
      },
      "execution_count": 30,
      "outputs": [
        {
          "output_type": "stream",
          "name": "stdout",
          "text": [
            "Invalid input: cannot convert abc to integer.\n"
          ]
        }
      ]
    },
    {
      "cell_type": "markdown",
      "source": [
        "#Using str.isdigit()"
      ],
      "metadata": {
        "id": "n-ul9SmS8jZK"
      }
    },
    {
      "cell_type": "code",
      "source": [
        "s = \"12345\"\n",
        "if s.isdigit():\n",
        "    num = int(s)\n",
        "    print(num)\n",
        "else:\n",
        "    print(\"The string is not numeric.\")\n"
      ],
      "metadata": {
        "colab": {
          "base_uri": "https://localhost:8080/"
        },
        "id": "rtL-tu3e8Wsq",
        "outputId": "1b45a907-a944-4929-cd7a-75f234a97e09"
      },
      "execution_count": 31,
      "outputs": [
        {
          "output_type": "stream",
          "name": "stdout",
          "text": [
            "12345\n"
          ]
        }
      ]
    },
    {
      "cell_type": "code",
      "source": [],
      "metadata": {
        "id": "d7Z4KakJ8muh"
      },
      "execution_count": null,
      "outputs": []
    }
  ]
}