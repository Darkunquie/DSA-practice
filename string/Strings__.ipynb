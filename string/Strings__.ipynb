{
  "nbformat": 4,
  "nbformat_minor": 0,
  "metadata": {
    "colab": {
      "provenance": []
    },
    "kernelspec": {
      "name": "python3",
      "display_name": "Python 3"
    },
    "language_info": {
      "name": "python"
    }
  },
  "cells": [
    {
      "cell_type": "code",
      "execution_count": 1,
      "metadata": {
        "colab": {
          "base_uri": "https://localhost:8080/"
        },
        "id": "ZRB7ozJGoCE6",
        "outputId": "081d5209-7ca9-4d4a-a118-b187b7629522"
      },
      "outputs": [
        {
          "output_type": "stream",
          "name": "stdout",
          "text": [
            "f\n",
            "GfGG\n"
          ]
        }
      ],
      "source": [
        "s = \"GfG\"\n",
        "\n",
        "print(s[1]) # access 2nd char\n",
        "s1 = s + s[0] # update\n",
        "print(s1) # print\n"
      ]
    },
    {
      "cell_type": "markdown",
      "source": [
        "#Creating a String"
      ],
      "metadata": {
        "id": "BrBtzN0YB5GU"
      }
    },
    {
      "cell_type": "code",
      "source": [
        "s1 = 'GfG'\n",
        "s2 = \"GfG\"\n",
        "print(s1)\n",
        "print(s2)\n"
      ],
      "metadata": {
        "colab": {
          "base_uri": "https://localhost:8080/"
        },
        "id": "2gBgLDHBpM_d",
        "outputId": "15db0f41-7752-4594-b4ab-a8ab2c28c6bd"
      },
      "execution_count": 2,
      "outputs": [
        {
          "output_type": "stream",
          "name": "stdout",
          "text": [
            "GfG\n",
            "GfG\n"
          ]
        }
      ]
    },
    {
      "cell_type": "code",
      "source": [
        "s = \"\"\"I am Learning\n",
        "Python String on GeeksforGeeks\"\"\"\n",
        "print(s)\n",
        "\n",
        "s = '''I'm a\n",
        "Geek'''\n",
        "print(s)\n"
      ],
      "metadata": {
        "colab": {
          "base_uri": "https://localhost:8080/"
        },
        "id": "CyTHALb3CRXn",
        "outputId": "937ae036-485d-42d4-89a8-ffe852f27dda"
      },
      "execution_count": 3,
      "outputs": [
        {
          "output_type": "stream",
          "name": "stdout",
          "text": [
            "I am Learning\n",
            "Python String on GeeksforGeeks\n",
            "I'm a \n",
            "Geek\n"
          ]
        }
      ]
    },
    {
      "cell_type": "markdown",
      "source": [
        "#Accessing characters"
      ],
      "metadata": {
        "id": "wvRFQcWPDBt9"
      }
    },
    {
      "cell_type": "code",
      "source": [
        "s = \"GeeksforGeeks\"\n",
        "\n",
        "# Accesses first character: 'G'\n",
        "print(s[0])\n",
        "\n",
        "# Accesses 5th character: 's'\n",
        "print(s[4])\n"
      ],
      "metadata": {
        "colab": {
          "base_uri": "https://localhost:8080/"
        },
        "id": "wZtYs9jRC3To",
        "outputId": "b08812bf-158b-4b05-edce-7f8124d847bb"
      },
      "execution_count": 4,
      "outputs": [
        {
          "output_type": "stream",
          "name": "stdout",
          "text": [
            "G\n",
            "s\n"
          ]
        }
      ]
    },
    {
      "cell_type": "markdown",
      "source": [
        "#neg indexing\n"
      ],
      "metadata": {
        "id": "_c8BuUAWDfXH"
      }
    },
    {
      "cell_type": "code",
      "source": [
        "s = \"GeeksforGeeks\"\n",
        "\n",
        "# Accesses 3rd character: 'k'\n",
        "print(s[-10])\n",
        "\n",
        "# Accesses 5th character from end: 'G'\n",
        "print(s[-5])\n"
      ],
      "metadata": {
        "colab": {
          "base_uri": "https://localhost:8080/"
        },
        "id": "Ct3HWSrDDIT9",
        "outputId": "d5c0b1a9-775b-4aa8-f55f-b076f4f75b23"
      },
      "execution_count": 5,
      "outputs": [
        {
          "output_type": "stream",
          "name": "stdout",
          "text": [
            "k\n",
            "G\n"
          ]
        }
      ]
    },
    {
      "cell_type": "markdown",
      "source": [
        "#String Slicing"
      ],
      "metadata": {
        "id": "7HAYpSsHD2Bx"
      }
    },
    {
      "cell_type": "code",
      "source": [
        "s = \"GeeksforGeeks\"\n",
        "\n",
        "# Retrieves characters from index 1 to 3: 'eek'\n",
        "print(s[1:4])\n",
        "\n",
        "# Retrieves characters from beginning to index 2: 'Gee'\n",
        "print(s[:3])\n",
        "\n",
        "# Retrieves characters from index 3 to the end: 'ksforGeeks'\n",
        "print(s[3:])\n",
        "\n",
        "# Reverse a string\n",
        "print(s[::-1])\n"
      ],
      "metadata": {
        "colab": {
          "base_uri": "https://localhost:8080/"
        },
        "id": "u1biLcn_DiIi",
        "outputId": "eba6277b-ce1a-419a-96ce-cb91b2754dc2"
      },
      "execution_count": 6,
      "outputs": [
        {
          "output_type": "stream",
          "name": "stdout",
          "text": [
            "eek\n",
            "Gee\n",
            "ksforGeeks\n",
            "skeeGrofskeeG\n"
          ]
        }
      ]
    },
    {
      "cell_type": "code",
      "source": [
        "s = \"geeksforGeeks\"\n",
        "\n",
        "# Trying to change the first character raises an error\n",
        "# s[0] = 'I'  # Uncommenting this line will cause a TypeError\n",
        "\n",
        "# Instead, create a new string\n",
        "s = \"G\" + s[1:]\n",
        "print(s)\n"
      ],
      "metadata": {
        "colab": {
          "base_uri": "https://localhost:8080/"
        },
        "id": "P-2lb_pxECzR",
        "outputId": "1f161b27-92d7-4154-e112-facf3b9f75bf"
      },
      "execution_count": 7,
      "outputs": [
        {
          "output_type": "stream",
          "name": "stdout",
          "text": [
            "GeeksforGeeks\n"
          ]
        }
      ]
    },
    {
      "cell_type": "code",
      "source": [
        "s=\"A\"+s[:2]\n",
        "s"
      ],
      "metadata": {
        "colab": {
          "base_uri": "https://localhost:8080/",
          "height": 36
        },
        "id": "6FOoAGFrEWCi",
        "outputId": "e4611c85-0aef-4510-d10b-0db8cce6e033"
      },
      "execution_count": 10,
      "outputs": [
        {
          "output_type": "execute_result",
          "data": {
            "text/plain": [
              "'AAe'"
            ],
            "application/vnd.google.colaboratory.intrinsic+json": {
              "type": "string"
            }
          },
          "metadata": {},
          "execution_count": 10
        }
      ]
    },
    {
      "cell_type": "markdown",
      "source": [
        "#Deleting a String"
      ],
      "metadata": {
        "id": "-O8Gn6laEo7L"
      }
    },
    {
      "cell_type": "code",
      "source": [
        "s = \"GfG\"\n",
        "\n",
        "# Deletes entire string\n",
        "del s\n"
      ],
      "metadata": {
        "id": "iS8G6iNXEa47"
      },
      "execution_count": 11,
      "outputs": []
    },
    {
      "cell_type": "markdown",
      "source": [
        "#Updating a String"
      ],
      "metadata": {
        "id": "gDpmrQCxE-0O"
      }
    },
    {
      "cell_type": "code",
      "source": [
        "s = \"hello geeks\"\n",
        "\n",
        "# Updating by creating a new string\n",
        "s1 = \"H\" + s[1:]\n",
        "\n",
        "# replacnig \"geeks\" with \"GeeksforGeeks\"\n",
        "s2 = s.replace(\"geeks\", \"GeeksforGeeks\")\n",
        "print(s1)\n",
        "print(s2)\n"
      ],
      "metadata": {
        "colab": {
          "base_uri": "https://localhost:8080/"
        },
        "id": "NNudPoM4EsFk",
        "outputId": "bc9cde3c-0b3b-4ec5-d3d1-e400a9ca8b8a"
      },
      "execution_count": 12,
      "outputs": [
        {
          "output_type": "stream",
          "name": "stdout",
          "text": [
            "Hello geeks\n",
            "hello GeeksforGeeks\n"
          ]
        }
      ]
    },
    {
      "cell_type": "markdown",
      "source": [
        "#String Methods"
      ],
      "metadata": {
        "id": "xIR0BbcHFk8l"
      }
    },
    {
      "cell_type": "code",
      "source": [
        "s = \"GeeksforGeeks\"\n",
        "print(len(s))\n",
        "\n",
        "# output: 13\n"
      ],
      "metadata": {
        "colab": {
          "base_uri": "https://localhost:8080/"
        },
        "id": "rxoGm9NqFKH4",
        "outputId": "0d9cb985-8c4d-4521-b7a9-94715f3eeafe"
      },
      "execution_count": 13,
      "outputs": [
        {
          "output_type": "stream",
          "name": "stdout",
          "text": [
            "13\n"
          ]
        }
      ]
    },
    {
      "cell_type": "code",
      "source": [
        "s = \"Hello World\"\n",
        "\n",
        "print(s.upper())   # output: HELLO WORLD\n",
        "\n",
        "print(s.lower())   # output: hello world\n"
      ],
      "metadata": {
        "colab": {
          "base_uri": "https://localhost:8080/"
        },
        "id": "sL2XpYhMFf23",
        "outputId": "d645eb50-5594-4fba-9916-3af39932127a"
      },
      "execution_count": 14,
      "outputs": [
        {
          "output_type": "stream",
          "name": "stdout",
          "text": [
            "HELLO WORLD\n",
            "hello world\n"
          ]
        }
      ]
    },
    {
      "cell_type": "code",
      "source": [
        "s = \"           Hello World \"\n",
        "print(s.strip())\n",
        "#remove sapce fromends\n"
      ],
      "metadata": {
        "colab": {
          "base_uri": "https://localhost:8080/"
        },
        "id": "6AHbVvM0GNzU",
        "outputId": "01e94822-f1e2-4514-b5c7-788651c022f5"
      },
      "execution_count": 17,
      "outputs": [
        {
          "output_type": "stream",
          "name": "stdout",
          "text": [
            "Hello World\n"
          ]
        }
      ]
    },
    {
      "cell_type": "code",
      "source": [
        "print(s.replace(\"Hello\", \"Fuck it\"))"
      ],
      "metadata": {
        "colab": {
          "base_uri": "https://localhost:8080/"
        },
        "id": "gIY7lOAMGUMJ",
        "outputId": "ef07dbe3-17ea-4bea-87ab-180834010875"
      },
      "execution_count": 19,
      "outputs": [
        {
          "output_type": "stream",
          "name": "stdout",
          "text": [
            "           Fuck it World \n"
          ]
        }
      ]
    },
    {
      "cell_type": "markdown",
      "source": [
        "#Concatenating and Repeating Strings"
      ],
      "metadata": {
        "id": "FBS9xqZKHIRt"
      }
    },
    {
      "cell_type": "code",
      "source": [
        "s1 = \"Hello\"\n",
        "s2 = \"World\"\n",
        "s3 = s1  + s2\n",
        "print(s3)\n"
      ],
      "metadata": {
        "colab": {
          "base_uri": "https://localhost:8080/"
        },
        "id": "xabyV4bbGlxZ",
        "outputId": "857bf58b-6fbc-49ee-9cda-0beb01847ace"
      },
      "execution_count": 21,
      "outputs": [
        {
          "output_type": "stream",
          "name": "stdout",
          "text": [
            "HelloWorld\n"
          ]
        }
      ]
    },
    {
      "cell_type": "code",
      "source": [
        "print(s2*3)"
      ],
      "metadata": {
        "colab": {
          "base_uri": "https://localhost:8080/"
        },
        "id": "ln7hG4AhHK09",
        "outputId": "19d0c55c-3e0e-411e-f0e2-55e1c148067e"
      },
      "execution_count": 23,
      "outputs": [
        {
          "output_type": "stream",
          "name": "stdout",
          "text": [
            "WorldWorldWorld\n"
          ]
        }
      ]
    },
    {
      "cell_type": "markdown",
      "source": [
        "#Formatting Strings"
      ],
      "metadata": {
        "id": "MwPMvwGGHnfi"
      }
    },
    {
      "cell_type": "markdown",
      "source": [
        "##Using f-strings"
      ],
      "metadata": {
        "id": "NYbr26tOHnYp"
      }
    },
    {
      "cell_type": "code",
      "source": [
        "name='keer'\n",
        "age='19'\n",
        "print(f\"name:{name}, age:{age}\")"
      ],
      "metadata": {
        "colab": {
          "base_uri": "https://localhost:8080/"
        },
        "id": "uv1svK6gHUiW",
        "outputId": "18bc30f7-fc40-4e97-858d-db465fc74cfe"
      },
      "execution_count": 24,
      "outputs": [
        {
          "output_type": "stream",
          "name": "stdout",
          "text": [
            "name:keer, age:19\n"
          ]
        }
      ]
    },
    {
      "cell_type": "markdown",
      "source": [
        "#Using format()"
      ],
      "metadata": {
        "id": "ETUgRlk0I_Bk"
      }
    },
    {
      "cell_type": "code",
      "source": [
        "name='my name {} is im {}'.format(\"yash\",\"Ai engineer\")\n",
        "print(name)"
      ],
      "metadata": {
        "colab": {
          "base_uri": "https://localhost:8080/"
        },
        "id": "Ju-Tfe7fIuWt",
        "outputId": "0bea9404-15d8-4d49-ef7b-b38922b7c448"
      },
      "execution_count": 26,
      "outputs": [
        {
          "output_type": "stream",
          "name": "stdout",
          "text": [
            "my name yash is im Ai engineer\n"
          ]
        }
      ]
    },
    {
      "cell_type": "code",
      "source": [
        "s = \"My name is {} and I am {} years old.\".format(\"Alice\", 22)\n",
        "print(s)\n"
      ],
      "metadata": {
        "colab": {
          "base_uri": "https://localhost:8080/"
        },
        "id": "Rv3GF0DuJAad",
        "outputId": "73fbe428-7a1c-4d96-bd9a-04723e93f066"
      },
      "execution_count": 27,
      "outputs": [
        {
          "output_type": "stream",
          "name": "stdout",
          "text": [
            "My name is Alice and I am 22 years old.\n"
          ]
        }
      ]
    },
    {
      "cell_type": "code",
      "source": [],
      "metadata": {
        "id": "esNyCwfALrkc"
      },
      "execution_count": null,
      "outputs": []
    }
  ]
}