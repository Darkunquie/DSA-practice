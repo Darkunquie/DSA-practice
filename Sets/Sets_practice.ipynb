{
  "nbformat": 4,
  "nbformat_minor": 0,
  "metadata": {
    "colab": {
      "provenance": []
    },
    "kernelspec": {
      "name": "python3",
      "display_name": "Python 3"
    },
    "language_info": {
      "name": "python"
    }
  },
  "cells": [
    {
      "cell_type": "markdown",
      "source": [
        "Find the size of a Set in Python\n"
      ],
      "metadata": {
        "id": "0nWvR-AiBbX2"
      }
    },
    {
      "cell_type": "code",
      "execution_count": null,
      "metadata": {
        "colab": {
          "base_uri": "https://localhost:8080/"
        },
        "id": "2CVcOgVtAjGt",
        "outputId": "fccaba98-b20d-43fb-e2a6-64cbe6c34c93"
      },
      "outputs": [
        {
          "output_type": "stream",
          "name": "stdout",
          "text": [
            "{'st1': 21, 'st2': 56}\n",
            "168\n",
            "184\n"
          ]
        }
      ],
      "source": [
        " import sys\n",
        " #two methods\n",
        " #getsizeof()\n",
        " #__sizeof__()\n",
        " hi={\"st1\":21,\"st2\":56}\n",
        " print(hi)\n",
        " print(hi.__sizeof__())\n",
        " print(sys.getsizeof(hi))#main because it return size of memory + garbage values"
      ]
    },
    {
      "cell_type": "markdown",
      "source": [
        "Iterate over a set in Python\n"
      ],
      "metadata": {
        "id": "NhqrgfsHCq_e"
      }
    },
    {
      "cell_type": "code",
      "source": [
        "#using for loop\n",
        "a=set(\"hello\")\n",
        "for i in a:\n",
        "  print(i)"
      ],
      "metadata": {
        "colab": {
          "base_uri": "https://localhost:8080/"
        },
        "id": "kT7qeYwnCqmu",
        "outputId": "b3e2167d-fcc4-430a-acd8-586134c7eda4"
      },
      "execution_count": null,
      "outputs": [
        {
          "output_type": "stream",
          "name": "stdout",
          "text": [
            "h\n",
            "l\n",
            "o\n",
            "e\n"
          ]
        }
      ]
    },
    {
      "cell_type": "code",
      "source": [
        "for i in a.__iter__():\n",
        "  print(i)"
      ],
      "metadata": {
        "colab": {
          "base_uri": "https://localhost:8080/"
        },
        "id": "Q-a0cj7uDI3c",
        "outputId": "ef348f06-0818-4a59-a379-1460d8d378c6"
      },
      "execution_count": null,
      "outputs": [
        {
          "output_type": "stream",
          "name": "stdout",
          "text": [
            "h\n",
            "l\n",
            "o\n",
            "e\n"
          ]
        }
      ]
    },
    {
      "cell_type": "code",
      "source": [
        "for i in iter(a):\n",
        "  print(i)"
      ],
      "metadata": {
        "colab": {
          "base_uri": "https://localhost:8080/"
        },
        "id": "lnBjO-c_Ddvk",
        "outputId": "a65bfc68-30cb-487f-e01e-55acb75d4bca"
      },
      "execution_count": null,
      "outputs": [
        {
          "output_type": "stream",
          "name": "stdout",
          "text": [
            "h\n",
            "l\n",
            "o\n",
            "e\n"
          ]
        }
      ]
    },
    {
      "cell_type": "markdown",
      "source": [
        "#Maximum and Minimum element"
      ],
      "metadata": {
        "id": "zna3_rhLDuxr"
      }
    },
    {
      "cell_type": "code",
      "source": [
        "s1 = {4, 12, 10, 9, 4, 13}\n",
        "print(max(s1))\n",
        "print(min(s1))"
      ],
      "metadata": {
        "colab": {
          "base_uri": "https://localhost:8080/"
        },
        "id": "efP7fjDFDz1X",
        "outputId": "307f3d70-5ee1-42e8-867f-208c52bdabb5"
      },
      "execution_count": null,
      "outputs": [
        {
          "output_type": "stream",
          "name": "stdout",
          "text": [
            "13\n",
            "4\n"
          ]
        }
      ]
    },
    {
      "cell_type": "code",
      "source": [
        "#using sorted\n",
        "print(sorted(s1)[0])\n",
        "print(sorted(s1)[-1])"
      ],
      "metadata": {
        "colab": {
          "base_uri": "https://localhost:8080/"
        },
        "id": "kd9qdRGmD3Sv",
        "outputId": "638dea95-d9dd-45aa-b5a1-d142a925e201"
      },
      "execution_count": null,
      "outputs": [
        {
          "output_type": "stream",
          "name": "stdout",
          "text": [
            "4\n",
            "13\n"
          ]
        }
      ]
    },
    {
      "cell_type": "code",
      "source": [
        "#using loop\n",
        "max_element = None\n",
        "for element in s1:\n",
        "  if max_element is None or element > max_element:\n",
        "    max_element = element\n",
        "print(max_element)\n",
        "print(min(s1))"
      ],
      "metadata": {
        "colab": {
          "base_uri": "https://localhost:8080/"
        },
        "id": "qYYx_drLELqm",
        "outputId": "9d0ad8b8-4698-4f13-c26a-39ef559d7bd5"
      },
      "execution_count": null,
      "outputs": [
        {
          "output_type": "stream",
          "name": "stdout",
          "text": [
            "13\n",
            "4\n"
          ]
        }
      ]
    },
    {
      "cell_type": "code",
      "source": [
        "minVal=float('inf')\n",
        "maxVal=float('-inf')\n",
        "for i in s1:\n",
        "  if i<minVal:\n",
        "    minVal=i\n",
        "  if i>maxVal:\n",
        "    maxVal=i\n",
        "print(minVal)\n",
        "print(maxVal)"
      ],
      "metadata": {
        "colab": {
          "base_uri": "https://localhost:8080/"
        },
        "id": "dDZrUyAhEbPD",
        "outputId": "2276ad54-4ff3-466f-fe09-62b55102caf7"
      },
      "execution_count": null,
      "outputs": [
        {
          "output_type": "stream",
          "name": "stdout",
          "text": [
            "4\n",
            "13\n"
          ]
        }
      ]
    },
    {
      "cell_type": "markdown",
      "source": [
        "#Remove items"
      ],
      "metadata": {
        "id": "5sGDh4yVE2Rr"
      }
    },
    {
      "cell_type": "code",
      "source": [
        "a = {1, 2, 3, 4, 5}\n",
        "\n",
        "a.remove(3)\n",
        "print(list(a))\n",
        "# The following loop and operations are not valid for sets as they rely on indexing and ordering\n",
        "# for i in a:\n",
        "#   if a[i] <a[i+1]:\n",
        "#     print(\"bigger\")\n",
        "#     print(a[::-1])"
      ],
      "metadata": {
        "colab": {
          "base_uri": "https://localhost:8080/"
        },
        "id": "UjFUs7oKE1cw",
        "outputId": "2bb2970f-2389-41ee-8ef7-cfb9645de73d"
      },
      "execution_count": null,
      "outputs": [
        {
          "output_type": "stream",
          "name": "stdout",
          "text": [
            "[1, 2, 4, 5]\n"
          ]
        }
      ]
    },
    {
      "cell_type": "markdown",
      "source": [
        "#convert set to list and do slicing"
      ],
      "metadata": {
        "id": "Lqsh1WdTBaQi"
      }
    },
    {
      "cell_type": "code",
      "metadata": {
        "colab": {
          "base_uri": "https://localhost:8080/"
        },
        "id": "027a2e72",
        "outputId": "23cd2d0c-de70-4043-c1ba-db924351b2fa"
      },
      "source": [
        "my_set = {1, 2, 3, 4, 5}\n",
        "my_list = list(my_set)\n",
        "\n",
        "print(my_list)\n",
        "print(my_list[0]) # Accessing the first element\n",
        "print(my_list[2]) # Accessing the third element"
      ],
      "execution_count": null,
      "outputs": [
        {
          "output_type": "stream",
          "name": "stdout",
          "text": [
            "[1, 2, 3, 4, 5]\n",
            "1\n",
            "3\n"
          ]
        }
      ]
    },
    {
      "cell_type": "markdown",
      "source": [
        "#Check if two lists have at-least one element common\n"
      ],
      "metadata": {
        "id": "w7Vt5jyMK7Ak"
      }
    },
    {
      "cell_type": "code",
      "source": [
        "a = [1, 2, 3, 4]\n",
        "b = [5, 6, 3, 8]\n",
        "\n",
        "# Find common elements using set intersection\n",
        "common = set(a) & set(b)\n",
        "\n",
        "# Check if there are common elements\n",
        "if common:\n",
        "    print(\"Common\", common)\n",
        "else:\n",
        "    print(\"Not common.\")"
      ],
      "metadata": {
        "colab": {
          "base_uri": "https://localhost:8080/"
        },
        "id": "JcMgGhvXK9LW",
        "outputId": "861e8a90-1039-47a4-94cf-738dd70aad15"
      },
      "execution_count": null,
      "outputs": [
        {
          "output_type": "stream",
          "name": "stdout",
          "text": [
            "Common {3}\n"
          ]
        }
      ]
    },
    {
      "cell_type": "code",
      "source": [
        "a = [1, 2, 3, 4]\n",
        "b = [5, 6, 3, 8]\n",
        "\n",
        "# Check for at least one common element\n",
        "if any(item in b for item in a):\n",
        "    print(\"Common elements exist.\")\n",
        "else:\n",
        "    print(\"No common elements.\")"
      ],
      "metadata": {
        "colab": {
          "base_uri": "https://localhost:8080/"
        },
        "id": "f-k9utQGK_C6",
        "outputId": "b89bb384-c14b-4e02-9d41-85b629bcdaa5"
      },
      "execution_count": null,
      "outputs": [
        {
          "output_type": "stream",
          "name": "stdout",
          "text": [
            "Common elements exist.\n"
          ]
        }
      ]
    },
    {
      "cell_type": "markdown",
      "source": [
        "#Find Common elements in three Lists using Sets"
      ],
      "metadata": {
        "id": "354TPScnLW0z"
      }
    },
    {
      "cell_type": "code",
      "source": [
        "a = [1, 2, 3, 4]\n",
        "b = [2, 3, 5, 6]\n",
        "c = [1, 2, 3, 7]\n",
        "\n",
        "# Convert lists to sets and find common elements\n",
        "res = set(a).intersection(b, c)\n",
        "print(f\"Common elements: {res}\")"
      ],
      "metadata": {
        "colab": {
          "base_uri": "https://localhost:8080/"
        },
        "id": "y4nOaqvELE4w",
        "outputId": "36453a36-0e0f-4978-ee2a-a3f97d15d880"
      },
      "execution_count": null,
      "outputs": [
        {
          "output_type": "stream",
          "name": "stdout",
          "text": [
            "Common elements: {2, 3}\n"
          ]
        }
      ]
    },
    {
      "cell_type": "code",
      "source": [
        "res=set(a)& set(b) & set(c)\n",
        "print(res)"
      ],
      "metadata": {
        "colab": {
          "base_uri": "https://localhost:8080/"
        },
        "id": "RYOKnuxDLbE2",
        "outputId": "347d9add-aacb-4360-9897-df9e66187496"
      },
      "execution_count": null,
      "outputs": [
        {
          "output_type": "stream",
          "name": "stdout",
          "text": [
            "{2, 3}\n"
          ]
        }
      ]
    },
    {
      "cell_type": "markdown",
      "source": [
        "#find missing and additional values"
      ],
      "metadata": {
        "id": "tWWq1j3NMNPa"
      }
    },
    {
      "cell_type": "code",
      "source": [
        "a = [1, 2, 3, 4, 5, 6]\n",
        "b = [4, 5, 6, 7, 8]\n",
        "additional=list(set(b)-set(a))\n",
        "missing=list(set(a)-set(b))\n",
        "print(additional)\n",
        "print(missing)\n"
      ],
      "metadata": {
        "colab": {
          "base_uri": "https://localhost:8080/"
        },
        "id": "Co-f6kVtLi4Q",
        "outputId": "876d1a1c-5c7c-481d-aecc-575e83c1bcb5"
      },
      "execution_count": null,
      "outputs": [
        {
          "output_type": "stream",
          "name": "stdout",
          "text": [
            "[8, 7]\n",
            "[1, 2, 3]\n"
          ]
        }
      ]
    },
    {
      "cell_type": "markdown",
      "source": [
        "#Difference between two Lists in Python\n"
      ],
      "metadata": {
        "id": "tlR61pieNDkh"
      }
    },
    {
      "cell_type": "code",
      "source": [
        "# Define the lists\n",
        "a = [1, 2, 3, 4, 5]\n",
        "b = [3, 4, 6, 7]\n",
        "\n",
        "c = list(set(a) - set(b))\n",
        "\n",
        "print(c)"
      ],
      "metadata": {
        "colab": {
          "base_uri": "https://localhost:8080/"
        },
        "id": "3hfIYu7FM9yY",
        "outputId": "ff0c23d3-614b-4d33-d4a6-b0b3b558025c"
      },
      "execution_count": null,
      "outputs": [
        {
          "output_type": "stream",
          "name": "stdout",
          "text": [
            "[1, 2, 5]\n"
          ]
        }
      ]
    },
    {
      "cell_type": "markdown",
      "source": [
        "#Python Set difference to find lost element from a duplicated array\n"
      ],
      "metadata": {
        "id": "WmShz-CSNgea"
      }
    },
    {
      "cell_type": "code",
      "source": [
        "A = [1, 4, 5, 7, 9]\n",
        "B = [4, 5, 7, 9]\n",
        "A1=len(A)\n",
        "B1=len(B)\n",
        "if A1>B1:\n",
        "  lost=list(set(A)-set(B))\n",
        "else:\n",
        "  lost=list(set(B)-set(A))\n",
        "print(lost)"
      ],
      "metadata": {
        "colab": {
          "base_uri": "https://localhost:8080/"
        },
        "id": "2kO7ajFPNJHg",
        "outputId": "fd23129d-0e1f-4efd-dff5-499fc213e72e"
      },
      "execution_count": null,
      "outputs": [
        {
          "output_type": "stream",
          "name": "stdout",
          "text": [
            "[1]\n"
          ]
        }
      ]
    },
    {
      "cell_type": "markdown",
      "source": [
        "#Count Number of Vowels using Sets"
      ],
      "metadata": {
        "id": "XPRw5omZOGIl"
      }
    },
    {
      "cell_type": "code",
      "source": [
        "s = \"Python Programming\"\n",
        "vowels = {'a', 'e', 'i', 'o', 'u', 'A', 'E', 'I', 'O', 'U'}\n",
        "vowel=str(vowels)\n",
        "sum=(s.count(vowel))\n",
        "print(sum)"
      ],
      "metadata": {
        "colab": {
          "base_uri": "https://localhost:8080/"
        },
        "id": "3oD4bJ-AN8kU",
        "outputId": "fe31fd2f-4d05-4219-d353-3adc0ae650f7"
      },
      "execution_count": null,
      "outputs": [
        {
          "output_type": "stream",
          "name": "stdout",
          "text": [
            "0\n"
          ]
        }
      ]
    },
    {
      "cell_type": "code",
      "metadata": {
        "colab": {
          "base_uri": "https://localhost:8080/"
        },
        "id": "e89fe470",
        "outputId": "f16023ab-9e66-4c32-d3dc-084ff1727aa5"
      },
      "source": [
        "my_set = {1, 2, 3, 4, 5}\n",
        "\n",
        "# Method 1: Convert to a list first and then join the elements (order is not guaranteed)\n",
        "my_list = list(my_set)\n",
        "set_string_list = ', '.join(map(str, my_list))\n",
        "print(f\"String from list conversion: {set_string_list}\")\n",
        "\n",
        "# Method 2: Using the built-in str() function\n",
        "set_string_str = str(my_set)\n",
        "print(f\"String from str() function: {set_string_str}\")"
      ],
      "execution_count": null,
      "outputs": [
        {
          "output_type": "stream",
          "name": "stdout",
          "text": [
            "String from list conversion: 1, 2, 3, 4, 5\n",
            "String from str() function: {1, 2, 3, 4, 5}\n"
          ]
        }
      ]
    },
    {
      "cell_type": "code",
      "metadata": {
        "colab": {
          "base_uri": "https://localhost:8080/"
        },
        "id": "40d420c6",
        "outputId": "0f9e941c-7d14-4c4f-87b2-f1c16c806ff9"
      },
      "source": [
        "s = \"Python Programming\"\n",
        "vowels = {'a', 'e', 'i', 'o', 'u', 'A', 'E', 'I', 'O', 'U'}\n",
        "count = 0\n",
        "for char in s:\n",
        "    if char in vowels:\n",
        "        count += 1\n",
        "print(count)"
      ],
      "execution_count": null,
      "outputs": [
        {
          "output_type": "stream",
          "name": "stdout",
          "text": [
            "4\n"
          ]
        }
      ]
    },
    {
      "cell_type": "markdown",
      "source": [
        "#Python Program to Accept the Strings Which Contains all Vowels"
      ],
      "metadata": {
        "id": "CFOK3G_sQ_yA"
      }
    },
    {
      "cell_type": "code",
      "source": [
        "s = \"Geeksforgeeks\"\n",
        "v = 'aeiou'\n",
        "\n",
        "if all(i in s.lower() for i in v):\n",
        "  print(\"true\")\n",
        "else:\n",
        "  print(\"false\")"
      ],
      "metadata": {
        "colab": {
          "base_uri": "https://localhost:8080/"
        },
        "id": "4cACS0LlQ_Zi",
        "outputId": "22efb920-0cc7-4dd6-dde3-e590e6b8d09d"
      },
      "execution_count": null,
      "outputs": [
        {
          "output_type": "stream",
          "name": "stdout",
          "text": [
            "false\n"
          ]
        }
      ]
    },
    {
      "cell_type": "markdown",
      "source": [
        "#Check if a given string is binary string or not - Python"
      ],
      "metadata": {
        "id": "PyUl8YyfRkOO"
      }
    },
    {
      "cell_type": "code",
      "source": [
        "s = \"101010000111\"\n",
        "\n",
        "if all(i in '01' for i in s):\n",
        "    print(\"True\")\n",
        "else:\n",
        "    print(\"False\")\n"
      ],
      "metadata": {
        "colab": {
          "base_uri": "https://localhost:8080/"
        },
        "id": "SNtP74NARVf7",
        "outputId": "f250b791-40f4-4cc9-a69c-eabbb81d7f1b"
      },
      "execution_count": null,
      "outputs": [
        {
          "output_type": "stream",
          "name": "stdout",
          "text": [
            "True\n"
          ]
        }
      ]
    },
    {
      "cell_type": "markdown",
      "source": [
        "#Python set to check if string is pangram\n"
      ],
      "metadata": {
        "id": "tZPX-rQiS2b4"
      }
    },
    {
      "cell_type": "code",
      "source": [
        "from string import ascii_lowercase as ascLow\n",
        "\n",
        "def check(string):\n",
        "    return set(ascLow) - set(string.lower()) == set([])\n",
        "\n",
        "\n",
        "string =\"The quick brown fox jumps over the lazy dog\"\n",
        "if(check(string)== True):\n",
        "    print(\"The string is a pangram\")\n",
        "else:\n",
        "    print(\"The string isn't a pangram\")"
      ],
      "metadata": {
        "colab": {
          "base_uri": "https://localhost:8080/"
        },
        "id": "p5IaCcS1SRlz",
        "outputId": "ee33dbcc-62bd-4f59-8700-9278fc91e527"
      },
      "execution_count": null,
      "outputs": [
        {
          "output_type": "stream",
          "name": "stdout",
          "text": [
            "The string is a pangram\n"
          ]
        }
      ]
    },
    {
      "cell_type": "markdown",
      "source": [
        "#Pairs of Complete Strings in Two Sets\n"
      ],
      "metadata": {
        "id": "3t6Jh1BcUbCT"
      }
    },
    {
      "cell_type": "code",
      "source": [
        "a = ['abcdefgh', 'geeksforgeeks', 'lmnopqrst', 'abc']\n",
        "b = ['ijklmnopqrstuvwxyz', 'abcdefghijklmnopqrstuvwxyz', 'defghijklmnopqrstuvwxyz']\n",
        "count=0\n",
        "for i in a:\n",
        "  for j in b:\n",
        "    combine=i+j\n",
        "    if len(set(combine))== 26:\n",
        "      count+=1\n",
        "\n",
        "print(count)"
      ],
      "metadata": {
        "id": "HsvcGzfPTQXE",
        "colab": {
          "base_uri": "https://localhost:8080/"
        },
        "outputId": "e06cf264-b803-4e73-9a12-3781ee95d13a"
      },
      "execution_count": 47,
      "outputs": [
        {
          "output_type": "stream",
          "name": "stdout",
          "text": [
            "7\n"
          ]
        }
      ]
    },
    {
      "cell_type": "code",
      "source": [
        "S = \"the big dwarf only jumps\"\n",
        "c=0\n",
        "s=[]\n",
        "for i in S:\n",
        "  if i in s:\n",
        "    print(\"yes\")\n",
        "  else:\n",
        "    print(\"No\")\n",
        "    break\n"
      ],
      "metadata": {
        "colab": {
          "base_uri": "https://localhost:8080/"
        },
        "id": "KDd1gxPbUzvu",
        "outputId": "2b9dbe73-7a78-479f-91d9-99fd42768a01"
      },
      "execution_count": 49,
      "outputs": [
        {
          "output_type": "stream",
          "name": "stdout",
          "text": [
            "No\n"
          ]
        }
      ]
    },
    {
      "cell_type": "code",
      "metadata": {
        "colab": {
          "base_uri": "https://localhost:8080/"
        },
        "id": "ff4f16ad",
        "outputId": "723a6d41-52d9-4d13-84fc-d3e5bb1e66b2"
      },
      "source": [
        "def has_unique_chars(s):\n",
        "  \"\"\"Checks if a string contains only unique characters using a set.\"\"\"\n",
        "  seen_chars = set()\n",
        "  for char in s:\n",
        "    if char in seen_chars:\n",
        "      return False  # Found a duplicate\n",
        "    seen_chars.add(char)\n",
        "  return True  # No duplicates found\n",
        "\n",
        "# Test cases\n",
        "s1 = \"the big dwarf only jumps\"\n",
        "s2 = \"geeksforgeeks\"\n",
        "print(has_unique_chars(s1))  # Output: False\n",
        "print(has_unique_chars(s2))  # Output: True\n"
      ],
      "execution_count": 52,
      "outputs": [
        {
          "output_type": "stream",
          "name": "stdout",
          "text": [
            "False\n",
            "False\n"
          ]
        }
      ]
    },
    {
      "cell_type": "code",
      "source": [],
      "metadata": {
        "id": "2NaEW8YoV-uT"
      },
      "execution_count": null,
      "outputs": []
    }
  ]
}