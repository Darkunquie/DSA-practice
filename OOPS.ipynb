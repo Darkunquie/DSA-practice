{
  "nbformat": 4,
  "nbformat_minor": 0,
  "metadata": {
    "colab": {
      "provenance": [],
      "authorship_tag": "ABX9TyM7rGomWGQc+hN5EY3T2yZL",
      "include_colab_link": true
    },
    "kernelspec": {
      "name": "python3",
      "display_name": "Python 3"
    },
    "language_info": {
      "name": "python"
    }
  },
  "cells": [
    {
      "cell_type": "markdown",
      "metadata": {
        "id": "view-in-github",
        "colab_type": "text"
      },
      "source": [
        "<a href=\"https://colab.research.google.com/github/Darkunquie/DSA-practice/blob/main/OOPS.ipynb\" target=\"_parent\"><img src=\"https://colab.research.google.com/assets/colab-badge.svg\" alt=\"Open In Colab\"/></a>"
      ]
    },
    {
      "cell_type": "code",
      "execution_count": null,
      "metadata": {
        "colab": {
          "base_uri": "https://localhost:8080/"
        },
        "id": "W8S4451r0IsQ",
        "outputId": "7b34cfd0-cf45-4092-e389-29c6c07e4d6c"
      },
      "outputs": [
        {
          "output_type": "stream",
          "name": "stdout",
          "text": [
            "<class 'bool'>\n",
            "<class 'tuple'>\n"
          ]
        }
      ],
      "source": [
        "class BB: #CLASS\n",
        "  pass\n",
        "\n",
        "obj1=BB()\n",
        "obj2=BB()\n",
        "obj3=BB() #INSTANCIATE\n",
        "print(type(True))\n",
        "print(type(()))"
      ]
    },
    {
      "cell_type": "markdown",
      "source": [
        "#CREATING OUR OWN OBJECT"
      ],
      "metadata": {
        "id": "gjDEJMiLmdd6"
      }
    },
    {
      "cell_type": "code",
      "source": [
        "class PC:\n",
        "  def __init__(self,brand,model,price): #self is  way to refer to the\n",
        "  #specific object that is being created from the class.\n",
        "    self.brand=brand # attributes\n",
        "    self.model=model\n",
        "    self.price=price\n",
        "  def run(self):\n",
        "    print('sale')\n",
        "    return 'sale'\n",
        "  def it(brand):\n",
        "    print(\"bmw\")\n",
        "p1=PC('hi','how','hey')\n",
        "p2=PC('are','you','fine')\n",
        "print(p1.brand)\n",
        "print(p1.model)\n",
        "print(p2.model)\n",
        "print(p1.run())\n",
        "print(p2.run())\n",
        "print(p1.it())\n",
        "print(p2.it())"
      ],
      "metadata": {
        "colab": {
          "base_uri": "https://localhost:8080/"
        },
        "id": "iOFQB9Exmg2n",
        "outputId": "034d1696-a841-47e6-99e5-104e467ab65b"
      },
      "execution_count": null,
      "outputs": [
        {
          "output_type": "stream",
          "name": "stdout",
          "text": [
            "hi\n",
            "how\n",
            "you\n",
            "sale\n",
            "sale\n",
            "sale\n",
            "sale\n",
            "bmw\n",
            "None\n",
            "bmw\n",
            "None\n"
          ]
        }
      ]
    },
    {
      "cell_type": "markdown",
      "source": [
        "#attributes and methods"
      ],
      "metadata": {
        "id": "COXupLvp1e8D"
      }
    },
    {
      "cell_type": "code",
      "source": [
        "class car:\n",
        "  def __init__(self, model, color):\n",
        "    self.model = model\n",
        "    self.color = color\n",
        "  def run(self):\n",
        "    print('bmw')\n",
        "  def run(model):\n",
        "    print('bmw')\n",
        "p1=car('hi','ai')\n",
        "p2=car('bmw','hey')\n",
        "print(p1.model)\n",
        "help(p1) ### show the blue print of class"
      ],
      "metadata": {
        "colab": {
          "base_uri": "https://localhost:8080/"
        },
        "id": "fFhEQxxppUX5",
        "outputId": "36215dfa-1f84-4eaa-b729-132a9e1fb1be"
      },
      "execution_count": null,
      "outputs": [
        {
          "output_type": "stream",
          "name": "stdout",
          "text": [
            "hi\n",
            "Help on car in module __main__ object:\n",
            "\n",
            "class car(builtins.object)\n",
            " |  car(model, color)\n",
            " |  \n",
            " |  Methods defined here:\n",
            " |  \n",
            " |  __init__(self, model, color)\n",
            " |      Initialize self.  See help(type(self)) for accurate signature.\n",
            " |  \n",
            " |  run(model)\n",
            " |  \n",
            " |  ----------------------------------------------------------------------\n",
            " |  Data descriptors defined here:\n",
            " |  \n",
            " |  __dict__\n",
            " |      dictionary for instance variables\n",
            " |  \n",
            " |  __weakref__\n",
            " |      list of weak references to the object\n",
            "\n"
          ]
        }
      ]
    },
    {
      "cell_type": "code",
      "source": [
        "class car:\n",
        "  ms=True # class oject attribute\n",
        "  def __init__(self, model, color):\n",
        "    self.model = model\n",
        "    self.color = color\n",
        "  def run(self):\n",
        "    print('bmw')\n",
        "  def run(model):\n",
        "    print('bmw')\n",
        "p1=car('hi','ai')\n",
        "p2=car('bmw','h;')\n",
        "print(p1.ms)\n",
        "print(p2.ms)\n"
      ],
      "metadata": {
        "colab": {
          "base_uri": "https://localhost:8080/"
        },
        "id": "017ebOAg18TV",
        "outputId": "011390ea-5af5-4292-ecc4-2e6612aaaf48"
      },
      "execution_count": null,
      "outputs": [
        {
          "output_type": "stream",
          "name": "stdout",
          "text": [
            "True\n",
            "True\n"
          ]
        }
      ]
    },
    {
      "cell_type": "code",
      "source": [
        "class car:\n",
        "  ms=True # class oject attribute\n",
        "  def __init__(self, model, color):\n",
        "    if self.ms:\n",
        "      self.model = model\n",
        "      self.color = color\n",
        "  def run(self):\n",
        "    print('bmw')\n",
        "  def run(model):\n",
        "    print('bmw')\n",
        "p1=car('hi','ai')\n",
        "p2=car('bmw','h;')\n",
        "print(p1.ms)"
      ],
      "metadata": {
        "colab": {
          "base_uri": "https://localhost:8080/"
        },
        "id": "8SO_dnmE3X5H",
        "outputId": "5d8ae53e-5934-4092-b0a0-1cbb4a264979"
      },
      "execution_count": null,
      "outputs": [
        {
          "output_type": "stream",
          "name": "stdout",
          "text": [
            "True\n"
          ]
        }
      ]
    },
    {
      "cell_type": "markdown",
      "source": [
        "# @classmethod and ststic method"
      ],
      "metadata": {
        "id": "yBGzA63JutIm"
      }
    },
    {
      "source": [
        "class Car:\n",
        "    ms = True  # class object attribute\n",
        "\n",
        "    def __init__(self, model, color):\n",
        "        self.model = model\n",
        "        self.color = color\n",
        "\n",
        "    def run(self):\n",
        "        print(f'my name is {self.model}')\n",
        "\n",
        "    @classmethod\n",
        "    def add(cls, n1, n2): #cls is class\n",
        "        return n1 + n2\n",
        "    @staticmethod\n",
        "    def stc_add(n1,n2):\n",
        "      return n1+n2\n",
        "\n",
        "\n",
        "#p1 = Car('tom', 'red')  # Assuming color is a string\n",
        "print(Car.add(2, 3))  # Call the add method on the class\n",
        "print(Car.stc_add(2,3))\n"
      ],
      "cell_type": "code",
      "metadata": {
        "colab": {
          "base_uri": "https://localhost:8080/"
        },
        "id": "w_uuBBIfvaE7",
        "outputId": "e63a7df5-ea57-4d15-f9f6-e35a31656237"
      },
      "execution_count": null,
      "outputs": [
        {
          "output_type": "stream",
          "name": "stdout",
          "text": [
            "5\n",
            "5\n"
          ]
        }
      ]
    },
    {
      "cell_type": "markdown",
      "source": [
        "# encapsulation"
      ],
      "metadata": {
        "id": "c_Q2uKIl3EW5"
      }
    },
    {
      "cell_type": "code",
      "source": [
        "class pc:\n",
        "  def __init__(self,name,age):\n",
        "    self.name=name\n",
        "    self.age=age\n",
        "  def get_name(self):\n",
        "    return self.name\n",
        "  def get_age(self):\n",
        "    print(f\"hi {self.name} and my{self.age} old\")\n",
        "p1=pc('yash',100)\n",
        "p1.get_age()\n"
      ],
      "metadata": {
        "colab": {
          "base_uri": "https://localhost:8080/"
        },
        "id": "_u77DmjVvECi",
        "outputId": "3587459c-d8c4-4910-c5d0-834508ab9b9a"
      },
      "execution_count": null,
      "outputs": [
        {
          "output_type": "stream",
          "name": "stdout",
          "text": [
            "hi yash and my100 old\n"
          ]
        }
      ]
    },
    {
      "cell_type": "code",
      "source": [
        "class pc:\n",
        "  def __init__(self,name,age):\n",
        "    self.name=name\n",
        "    self.age=age\n",
        "p1=pc('yash',25)\n",
        "print(p1.name)\n",
        "print(p1.age)\n",
        "#accessing through dict\n",
        "p2={'name':'yash','age':'23'}\n",
        "print(p2)\n",
        "print(p2['name'])\n",
        "print(p2['age'])"
      ],
      "metadata": {
        "id": "WFcOD7Af3nz7",
        "colab": {
          "base_uri": "https://localhost:8080/"
        },
        "outputId": "0e5a6ff1-a2b3-460b-c3dd-ac6e9b31defd"
      },
      "execution_count": 19,
      "outputs": [
        {
          "output_type": "stream",
          "name": "stdout",
          "text": [
            "yash\n",
            "25\n",
            "{'name': 'yash', 'age': '23'}\n",
            "yash\n",
            "23\n"
          ]
        }
      ]
    },
    {
      "cell_type": "markdown",
      "source": [
        "#Abstraction"
      ],
      "metadata": {
        "id": "k5VMKXXI8Aju"
      }
    },
    {
      "cell_type": "markdown",
      "source": [
        "a core concept that simplifies complex systems by hiding unnecessary details and exposing only the essential features. I"
      ],
      "metadata": {
        "id": "TM2fY7YO8FEb"
      }
    },
    {
      "cell_type": "code",
      "source": [
        "class pc:\n",
        "  def __init__(self,name,age):\n",
        "    self.name=name\n",
        "    self.age=age\n",
        "  def get_name(self):\n",
        "    return self.name\n",
        "  def get_age(self):\n",
        "    print(f\"hi {self.name} and my{self.age} old\")\n",
        "p1=pc('yash',100)\n",
        "p1.speak='BOOOO'\n",
        "print(p1.speak)\n"
      ],
      "metadata": {
        "colab": {
          "base_uri": "https://localhost:8080/"
        },
        "id": "cIB8BxSH7S0z",
        "outputId": "faa9e77c-24f8-4f6b-9a5c-02be379710be"
      },
      "execution_count": 21,
      "outputs": [
        {
          "output_type": "stream",
          "name": "stdout",
          "text": [
            "BOOOO\n"
          ]
        }
      ]
    },
    {
      "cell_type": "markdown",
      "source": [
        "#private vs public variables"
      ],
      "metadata": {
        "id": "sxaTSaED9pHi"
      }
    },
    {
      "cell_type": "code",
      "source": [
        "#private\n",
        "# _variable is private\n",
        "class pc:\n",
        "  def __init__(self,name,age):\n",
        "    self._name=name\n",
        "    self._age=age\n",
        "  def get_name(self):\n",
        "    return self.name\n",
        "  def get_age(self):\n",
        "    print(f\"hi {self._name} and my{self._age} old\")\n",
        "p1=pc('yash',100)\n",
        "#p1.speak='BOOOO'\n",
        "print(p1.get_age())\n"
      ],
      "metadata": {
        "colab": {
          "base_uri": "https://localhost:8080/"
        },
        "id": "K6H369PZ9mVc",
        "outputId": "b7bd02d0-4dd3-4a41-f7ef-8c8e819ddc24"
      },
      "execution_count": 24,
      "outputs": [
        {
          "output_type": "stream",
          "name": "stdout",
          "text": [
            "hi yash and my100 old\n",
            "None\n"
          ]
        }
      ]
    },
    {
      "cell_type": "markdown",
      "source": [
        "#Inheritance"
      ],
      "metadata": {
        "id": "B_GtJAKtGjYW"
      }
    },
    {
      "cell_type": "markdown",
      "source": [
        "a mechanism where a new class (derived or subclass) inherits properties and behaviors from an existing class (base or superclass"
      ],
      "metadata": {
        "id": "eVoSkN3YGxZD"
      }
    },
    {
      "cell_type": "code",
      "source": [
        "#users\n",
        "\n",
        "\n",
        "class user:\n",
        "  def sign_in(self ):\n",
        "    print('logged In')\n",
        "\n",
        "class Wizard(user):\n",
        "  def __init__(self,name,power):\n",
        "    self.name=name\n",
        "    self.power=power\n",
        "  def attack(self):\n",
        "    print(f'attacking with power of {self.power}')\n",
        "\n",
        "\n",
        "class Archer(user):\n",
        "  def __init__(self,name,num_arrows):\n",
        "    self.name=name\n",
        "    self.num_arrows=num_arrows\n",
        "  def attack(self):\n",
        "    print(f'attacking with arrows: arrows left-{self.num_arrows}')\n",
        "\n",
        "\n",
        "w1=Wizard('merlin',50)\n",
        "a1=Archer('rob',30)\n",
        "w1.attack()\n",
        "a1.attack()\n",
        "print(w1.sign_in())\n",
        "print(a1.sign_in())\n",
        "\n"
      ],
      "metadata": {
        "colab": {
          "base_uri": "https://localhost:8080/"
        },
        "id": "J-ydXN3K-lN5",
        "outputId": "0ee67937-5927-4265-9a14-84d54e17f229"
      },
      "execution_count": 31,
      "outputs": [
        {
          "output_type": "stream",
          "name": "stdout",
          "text": [
            "attacking with power of 50\n",
            "attacking with arrows: arrows left-30\n",
            "logged In\n",
            "None\n",
            "logged In\n",
            "None\n"
          ]
        }
      ]
    },
    {
      "cell_type": "markdown",
      "source": [
        "The isinstance() function is a built-in Python function that is used to check if an object is an instance of a specific class or of a subclass thereof."
      ],
      "metadata": {
        "id": "59-jGa_fUEfd"
      }
    },
    {
      "cell_type": "code",
      "source": [
        "#users\n",
        "\n",
        "\n",
        "class user:\n",
        "  def sign_in(self ):\n",
        "    print('logged In')\n",
        "\n",
        "class Wizard(user):\n",
        "  def __init__(self,name,power):\n",
        "    self.name=name\n",
        "    self.power=power\n",
        "  def attack(self):\n",
        "    print(f'attacking with power of {self.power}')\n",
        "\n",
        "\n",
        "class Archer(user):\n",
        "  def __init__(self,name,num_arrows):\n",
        "    self.name=name\n",
        "    self.num_arrows=num_arrows\n",
        "  def attack(self):\n",
        "    print(f'attacking with arrows: arrows left-{self.num_arrows}')\n",
        "\n",
        "w1=Wizard('merlin',50)\n",
        "w1.sign_in()\n",
        "a1=Archer('rob',30)\n",
        "print(isinstance(w1,Wizard))\n",
        "isinstance(w1,user)\n",
        "\n"
      ],
      "metadata": {
        "colab": {
          "base_uri": "https://localhost:8080/"
        },
        "id": "sDzY1KNSRLyX",
        "outputId": "628e7bfa-4313-46d1-c6fc-4e612da1e5ed"
      },
      "execution_count": 32,
      "outputs": [
        {
          "output_type": "stream",
          "name": "stdout",
          "text": [
            "logged In\n",
            "True\n"
          ]
        },
        {
          "output_type": "execute_result",
          "data": {
            "text/plain": [
              "True"
            ]
          },
          "metadata": {},
          "execution_count": 32
        }
      ]
    },
    {
      "cell_type": "markdown",
      "source": [
        "## Polmorphism"
      ],
      "metadata": {
        "id": "1i3MO3yJUjHg"
      }
    },
    {
      "cell_type": "code",
      "source": [
        "#users\n",
        "\n",
        "\n",
        "class user:\n",
        "  def sign_in(self ):\n",
        "    print('logged In')\n",
        "\n",
        "class Wizard(user):\n",
        "  def __init__(self,name,power):\n",
        "    self.name=name\n",
        "    self.power=power\n",
        "  def attack(self):\n",
        "    print(f'attacking with power of {self.power}')\n",
        "\n",
        "\n",
        "class Archer(user):\n",
        "  def __init__(self,name,num_arrows):\n",
        "    self.name=name\n",
        "    self.num_arrows=num_arrows\n",
        "  def attack(self):\n",
        "    print(f'attacking with arrows: arrows left-{self.num_arrows}')\n",
        "\n",
        "def player_attack(char):\n",
        "  char.attack()\n",
        "\n",
        "#w1=Wizard('merlin',50)\n",
        "#a1=Archer('rob',30)\n",
        "player_attack(w1)\n",
        "player_attack(a1)\n"
      ],
      "metadata": {
        "colab": {
          "base_uri": "https://localhost:8080/"
        },
        "id": "mZP3g-3NTw8l",
        "outputId": "c0247ed8-eb02-4088-f85d-cd8283a43980"
      },
      "execution_count": 34,
      "outputs": [
        {
          "output_type": "stream",
          "name": "stdout",
          "text": [
            "attacking with power of 50\n",
            "attacking with arrows: arrows left-30\n"
          ]
        }
      ]
    },
    {
      "cell_type": "code",
      "source": [],
      "metadata": {
        "id": "YHTTkM5EVRhP"
      },
      "execution_count": null,
      "outputs": []
    }
  ]
}