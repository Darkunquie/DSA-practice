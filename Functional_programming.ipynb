{
  "nbformat": 4,
  "nbformat_minor": 0,
  "metadata": {
    "colab": {
      "provenance": [],
      "authorship_tag": "ABX9TyNJf9oP1/ad64T6QCpHADMJ",
      "include_colab_link": true
    },
    "kernelspec": {
      "name": "python3",
      "display_name": "Python 3"
    },
    "language_info": {
      "name": "python"
    }
  },
  "cells": [
    {
      "cell_type": "markdown",
      "metadata": {
        "id": "view-in-github",
        "colab_type": "text"
      },
      "source": [
        "<a href=\"https://colab.research.google.com/github/Darkunquie/DSA-practice/blob/main/Functional_programming.ipynb\" target=\"_parent\"><img src=\"https://colab.research.google.com/assets/colab-badge.svg\" alt=\"Open In Colab\"/></a>"
      ]
    },
    {
      "cell_type": "markdown",
      "source": [
        "#Pure Func"
      ],
      "metadata": {
        "id": "JDg6eaYAYjKh"
      }
    },
    {
      "cell_type": "code",
      "execution_count": 2,
      "metadata": {
        "colab": {
          "base_uri": "https://localhost:8080/"
        },
        "id": "5yBZJnoJXKdo",
        "outputId": "576411e8-731b-4447-c50a-f84290df7391"
      },
      "outputs": [
        {
          "output_type": "stream",
          "name": "stdout",
          "text": [
            "[2, 4, 6]\n"
          ]
        }
      ],
      "source": [
        "def mul(li):\n",
        "  new_li=[]\n",
        "  for i in li:\n",
        "    new_li.append(i*2)\n",
        "  return new_li\n",
        "print(mul([1,2,3]))"
      ]
    },
    {
      "cell_type": "markdown",
      "source": [
        "#map"
      ],
      "metadata": {
        "id": "iAT5kan1ab1y"
      }
    },
    {
      "cell_type": "code",
      "source": [
        "\n",
        "def mul(i):\n",
        "  return i*2\n",
        "print(list(map(mul,[1,2,3])) )"
      ],
      "metadata": {
        "colab": {
          "base_uri": "https://localhost:8080/"
        },
        "id": "Lb9OEHgYY-SO",
        "outputId": "0d73dd93-530c-42b4-8116-bdbab560ebbf"
      },
      "execution_count": 11,
      "outputs": [
        {
          "output_type": "stream",
          "name": "stdout",
          "text": [
            "[2, 4, 6]\n"
          ]
        }
      ]
    },
    {
      "cell_type": "markdown",
      "source": [
        "#filter()"
      ],
      "metadata": {
        "id": "gbLcAcgQcjs2"
      }
    },
    {
      "cell_type": "code",
      "source": [
        "\n",
        "def mul(i):\n",
        "  return i*2\n",
        "def odd(i):\n",
        "   return i%2!=0\n",
        "print(list(filter(odd,[1,2,3])) )"
      ],
      "metadata": {
        "colab": {
          "base_uri": "https://localhost:8080/"
        },
        "id": "wgcAGcplbZa6",
        "outputId": "cfe713d5-2d8e-4087-8941-ac0dfd647a14"
      },
      "execution_count": 13,
      "outputs": [
        {
          "output_type": "stream",
          "name": "stdout",
          "text": [
            "[1, 3]\n"
          ]
        }
      ]
    },
    {
      "cell_type": "markdown",
      "source": [
        "#zip()"
      ],
      "metadata": {
        "id": "XKa7AbCJeKGj"
      }
    },
    {
      "cell_type": "code",
      "source": [
        "def mul(i):\n",
        "  return i*2\n",
        "def odd(i):\n",
        "   return i%2!=0\n",
        "l1=[1,2,3,3]\n",
        "l2=[10,20,30,40]\n",
        "print(list(zip(l1,l2)) )"
      ],
      "metadata": {
        "colab": {
          "base_uri": "https://localhost:8080/"
        },
        "id": "iF-0ZbdqdvS-",
        "outputId": "98ac08dd-879e-4d4b-9399-273554a4860e"
      },
      "execution_count": 18,
      "outputs": [
        {
          "output_type": "stream",
          "name": "stdout",
          "text": [
            "[(1, 10), (2, 20), (3, 30), (3, 40)]\n"
          ]
        }
      ]
    },
    {
      "cell_type": "markdown",
      "source": [
        "##Reduce()"
      ],
      "metadata": {
        "id": "R9_C4mn1fGV7"
      }
    },
    {
      "cell_type": "code",
      "source": [
        "from functools import reduce\n",
        "\n",
        "def mul(i):\n",
        "  return i*2\n",
        "def odd(i):\n",
        "   return i%2!=0\n",
        "l1=[1,2,3,3]\n",
        "def av(acc,i):\n",
        "  print(acc,i)\n",
        "  return acc+i\n",
        "print(reduce(av,l1,0) )\n"
      ],
      "metadata": {
        "colab": {
          "base_uri": "https://localhost:8080/"
        },
        "id": "c7XY8FOPeocQ",
        "outputId": "6ba0cad2-200d-423b-9d22-491c7f80a9a0"
      },
      "execution_count": 22,
      "outputs": [
        {
          "output_type": "stream",
          "name": "stdout",
          "text": [
            "0 1\n",
            "1 2\n",
            "3 3\n",
            "6 3\n",
            "9\n"
          ]
        }
      ]
    },
    {
      "cell_type": "markdown",
      "source": [
        "#lambda expressions"
      ],
      "metadata": {
        "id": "uM25vJ99ggmm"
      }
    },
    {
      "cell_type": "code",
      "source": [
        "\n",
        "print(list(map(lambda i: i*2,[1,2,3])) )"
      ],
      "metadata": {
        "colab": {
          "base_uri": "https://localhost:8080/"
        },
        "id": "jKjzJr8wfwS4",
        "outputId": "7d013208-2e12-4182-f8df-8deba0460180"
      },
      "execution_count": 23,
      "outputs": [
        {
          "output_type": "stream",
          "name": "stdout",
          "text": [
            "[2, 4, 6]\n"
          ]
        }
      ]
    },
    {
      "cell_type": "code",
      "source": [
        "\n",
        "print(list(filter(lambda i: i+2,[1,2,3])) )"
      ],
      "metadata": {
        "colab": {
          "base_uri": "https://localhost:8080/"
        },
        "id": "1f0WutBghRcn",
        "outputId": "061e8dce-f807-48d2-bd8e-6ec75e7904d0"
      },
      "execution_count": 25,
      "outputs": [
        {
          "output_type": "stream",
          "name": "stdout",
          "text": [
            "[1, 2, 3]\n"
          ]
        }
      ]
    },
    {
      "cell_type": "code",
      "source": [
        "print((reduce(lambda acc,i: acc+i,[1,2,3])) )"
      ],
      "metadata": {
        "colab": {
          "base_uri": "https://localhost:8080/"
        },
        "id": "fEcmdO8VhV9p",
        "outputId": "01efebbd-ab37-4940-90fd-d25575ff8e8b"
      },
      "execution_count": 31,
      "outputs": [
        {
          "output_type": "stream",
          "name": "stdout",
          "text": [
            "6\n"
          ]
        }
      ]
    },
    {
      "cell_type": "code",
      "source": [
        "l1=[5,4,3]\n",
        "print(list(map(lambda i: i*i,l1)))"
      ],
      "metadata": {
        "colab": {
          "base_uri": "https://localhost:8080/"
        },
        "id": "Ma7bskuzh5QM",
        "outputId": "8cebbd73-ccb8-4fac-8654-7784f37a848c"
      },
      "execution_count": 34,
      "outputs": [
        {
          "output_type": "stream",
          "name": "stdout",
          "text": [
            "[25, 16, 9]\n"
          ]
        }
      ]
    },
    {
      "cell_type": "code",
      "source": [
        "# list sorting\n",
        "a=[(0,2),(4,3),(9,9),(10,-1)]\n",
        "print (a.sort())\n",
        "print(sorted(a,key=lambda x:x[1]))"
      ],
      "metadata": {
        "colab": {
          "base_uri": "https://localhost:8080/"
        },
        "id": "CQkxWqmpiZTq",
        "outputId": "44830939-e446-4409-fe65-43638e000802"
      },
      "execution_count": 39,
      "outputs": [
        {
          "output_type": "stream",
          "name": "stdout",
          "text": [
            "None\n",
            "[(10, -1), (0, 2), (4, 3), (9, 9)]\n"
          ]
        }
      ]
    },
    {
      "cell_type": "markdown",
      "source": [
        "#List comprehensions"
      ],
      "metadata": {
        "id": "YRqCQRIljlpu"
      }
    },
    {
      "cell_type": "code",
      "source": [
        "l1=[]\n",
        "for i in 'hello':\n",
        "  l1.append(i)\n",
        "print(l1)"
      ],
      "metadata": {
        "colab": {
          "base_uri": "https://localhost:8080/"
        },
        "id": "orHBdGrqi6RN",
        "outputId": "4abd5a77-2bae-4a45-8cbb-1426573e5d78"
      },
      "execution_count": 40,
      "outputs": [
        {
          "output_type": "stream",
          "name": "stdout",
          "text": [
            "['h', 'e', 'l', 'l', 'o']\n"
          ]
        }
      ]
    },
    {
      "cell_type": "code",
      "source": [
        "l1=[i for i in 'hello']\n",
        "print(l1)"
      ],
      "metadata": {
        "colab": {
          "base_uri": "https://localhost:8080/"
        },
        "id": "vtJb5awLkHIK",
        "outputId": "4a6f9319-c667-4299-e1d3-80fe9a0ba0f4"
      },
      "execution_count": 41,
      "outputs": [
        {
          "output_type": "stream",
          "name": "stdout",
          "text": [
            "['h', 'e', 'l', 'l', 'o']\n"
          ]
        }
      ]
    },
    {
      "cell_type": "code",
      "source": [
        "l2=[i for i in range(10,1,-1)]\n",
        "print(l2)\n",
        ""
      ],
      "metadata": {
        "colab": {
          "base_uri": "https://localhost:8080/"
        },
        "id": "-5qexxEMlpts",
        "outputId": "f3bee250-6452-4f13-c65f-956dfe6cb099"
      },
      "execution_count": 45,
      "outputs": [
        {
          "output_type": "stream",
          "name": "stdout",
          "text": [
            "[10, 9, 8, 7, 6, 5, 4, 3, 2]\n"
          ]
        }
      ]
    },
    {
      "cell_type": "code",
      "source": [
        "l3=[i for i in range(10,1,-1) if i%2==0]\n",
        "print(l3)"
      ],
      "metadata": {
        "colab": {
          "base_uri": "https://localhost:8080/"
        },
        "id": "_GE_yH0uls2Z",
        "outputId": "6cfe8a4d-3449-4d50-9b07-bfd42d1d8713"
      },
      "execution_count": 46,
      "outputs": [
        {
          "output_type": "stream",
          "name": "stdout",
          "text": [
            "[10, 8, 6, 4, 2]\n"
          ]
        }
      ]
    },
    {
      "cell_type": "code",
      "source": [
        "l4=[i**2 for i in range(0,10) if i%2==0]\n",
        "print(l4)"
      ],
      "metadata": {
        "colab": {
          "base_uri": "https://localhost:8080/"
        },
        "id": "MiqMejEQl26Q",
        "outputId": "d27e9e13-ef78-406e-cf7a-83676995d5d0"
      },
      "execution_count": 51,
      "outputs": [
        {
          "output_type": "stream",
          "name": "stdout",
          "text": [
            "[0, 4, 16, 36, 64]\n"
          ]
        }
      ]
    },
    {
      "cell_type": "markdown",
      "source": [
        "#set and Dict comprehension"
      ],
      "metadata": {
        "id": "5UVFiqFHmv0z"
      }
    },
    {
      "cell_type": "code",
      "source": [
        "l1={i for i in 'hello'}\n",
        "print(l1)"
      ],
      "metadata": {
        "colab": {
          "base_uri": "https://localhost:8080/"
        },
        "id": "fi7Aksztl_Sf",
        "outputId": "a30ac6a7-70ea-437b-d658-e4dc81645a0c"
      },
      "execution_count": 52,
      "outputs": [
        {
          "output_type": "stream",
          "name": "stdout",
          "text": [
            "{'l', 'o', 'e', 'h'}\n"
          ]
        }
      ]
    },
    {
      "cell_type": "code",
      "source": [
        "d1={\n",
        "    'a':1,\n",
        "    'b':2\n",
        "}\n",
        "my_dict={k:v**3 for k,v in d1.items()}\n",
        "print(my_dict)\n",
        "\n",
        "\n"
      ],
      "metadata": {
        "colab": {
          "base_uri": "https://localhost:8080/"
        },
        "id": "kWa0v6H3m8Wq",
        "outputId": "d48e07a1-d246-4564-9a13-0bb4a1a38dfd"
      },
      "execution_count": 54,
      "outputs": [
        {
          "output_type": "stream",
          "name": "stdout",
          "text": [
            "{'a': 1, 'b': 8}\n"
          ]
        }
      ]
    },
    {
      "cell_type": "code",
      "source": [
        "d1={n:n**2 for n in [1,2,3]}\n",
        "d1"
      ],
      "metadata": {
        "colab": {
          "base_uri": "https://localhost:8080/"
        },
        "id": "-v8T0b6WpNQl",
        "outputId": "9c312b8e-4006-4bda-c310-aff345574481"
      },
      "execution_count": 55,
      "outputs": [
        {
          "output_type": "execute_result",
          "data": {
            "text/plain": [
              "{1: 1, 2: 4, 3: 9}"
            ]
          },
          "metadata": {},
          "execution_count": 55
        }
      ]
    },
    {
      "cell_type": "code",
      "source": [
        "some_list = ['a', 'b', 'c', 'b', 'd', 'm', 'n', 'n']\n",
        "\n",
        "duplicates = []\n",
        "for value in some_list:\n",
        "    if some_list.count(value) > 1:\n",
        "        if value not in duplicates:\n",
        "            duplicates.append(value)\n",
        "\n",
        "print(duplicates)"
      ],
      "metadata": {
        "colab": {
          "base_uri": "https://localhost:8080/"
        },
        "id": "elFVJ99BpvSV",
        "outputId": "fd32b8c6-1e56-455e-81eb-5307c8ae28ad"
      },
      "execution_count": 56,
      "outputs": [
        {
          "output_type": "stream",
          "name": "stdout",
          "text": [
            "['b', 'n']\n"
          ]
        }
      ]
    },
    {
      "cell_type": "code",
      "source": [
        "some_list = ['a', 'b', 'c', 'b', 'd', 'm', 'n', 'n']\n",
        "l1= list(set([x for x in some_list if some_list.count(x)>1]))\n",
        "print(l1)"
      ],
      "metadata": {
        "colab": {
          "base_uri": "https://localhost:8080/"
        },
        "id": "FoNVy4flp7u7",
        "outputId": "17f6db81-bf12-490c-f4c5-4f0aa39ba928"
      },
      "execution_count": 62,
      "outputs": [
        {
          "output_type": "stream",
          "name": "stdout",
          "text": [
            "['b', 'n']\n"
          ]
        }
      ]
    },
    {
      "cell_type": "code",
      "source": [],
      "metadata": {
        "id": "ApnZuq70qYu2"
      },
      "execution_count": null,
      "outputs": []
    }
  ]
}